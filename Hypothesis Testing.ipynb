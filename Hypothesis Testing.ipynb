{
 "cells": [
  {
   "cell_type": "markdown",
   "id": "38a9f93f",
   "metadata": {},
   "source": [
    "# **Hpothesis Testing**"
   ]
  },
  {
   "cell_type": "markdown",
   "id": "c0a830e0",
   "metadata": {},
   "source": [
    "# **Imports**"
   ]
  },
  {
   "cell_type": "code",
   "execution_count": 1,
   "id": "130a048a",
   "metadata": {},
   "outputs": [],
   "source": [
    "import numpy as np\n",
    "import pandas as pd\n",
    "import seaborn as sns\n",
    "import matplotlib.pyplot as plt\n",
    "import plotly\n",
    "\n",
    "\n",
    "#Scipy\n",
    "from scipy import stats\n",
    "from scipy.stats import norm, pearsonr\n",
    "import statsmodels.api as sm\n",
    "\n",
    "# Warnings \n",
    "import warnings \n",
    "warnings.filterwarnings(\"ignore\")"
   ]
  },
  {
   "cell_type": "markdown",
   "id": "8c7246e5",
   "metadata": {},
   "source": [
    "# **Loading The Data**"
   ]
  },
  {
   "cell_type": "code",
   "execution_count": 2,
   "id": "f14f0802",
   "metadata": {},
   "outputs": [],
   "source": [
    "# Loading the NYC Restaurant Data \n",
    "rd = pd.read_csv('rd')"
   ]
  },
  {
   "cell_type": "code",
   "execution_count": 3,
   "id": "46402d86",
   "metadata": {},
   "outputs": [],
   "source": [
    "# Loading the Yelp Data for NYC Restaurant Data \n",
    "ydf = pd.read_csv('ydf')"
   ]
  },
  {
   "cell_type": "code",
   "execution_count": 4,
   "id": "6273a683",
   "metadata": {
    "scrolled": true
   },
   "outputs": [
    {
     "name": "stdout",
     "output_type": "stream",
     "text": [
      "<class 'pandas.core.frame.DataFrame'>\n",
      "RangeIndex: 210611 entries, 0 to 210610\n",
      "Data columns (total 19 columns):\n",
      " #   Column                 Non-Null Count   Dtype  \n",
      "---  ------                 --------------   -----  \n",
      " 0   CAMIS                  210611 non-null  int64  \n",
      " 1   DBA                    209970 non-null  object \n",
      " 2   BORO                   210611 non-null  object \n",
      " 3   BUILDING               210308 non-null  object \n",
      " 4   STREET                 210607 non-null  object \n",
      " 5   ZIPCODE                207890 non-null  float64\n",
      " 6   CUISINE DESCRIPTION    208186 non-null  object \n",
      " 7   INSPECTION DATE        210611 non-null  object \n",
      " 8   ACTION                 208186 non-null  object \n",
      " 9   VIOLATION CODE         207055 non-null  object \n",
      " 10  VIOLATION DESCRIPTION  207055 non-null  object \n",
      " 11  CRITICAL FLAG          210611 non-null  object \n",
      " 12  SCORE                  200542 non-null  float64\n",
      " 13  GRADE                  103135 non-null  object \n",
      " 14  GRADE DATE             94324 non-null   object \n",
      " 15  INSPECTION TYPE        208186 non-null  object \n",
      " 16  Latitude               210332 non-null  float64\n",
      " 17  Longitude              210332 non-null  float64\n",
      " 18  Council District       207348 non-null  float64\n",
      "dtypes: float64(5), int64(1), object(13)\n",
      "memory usage: 30.5+ MB\n"
     ]
    }
   ],
   "source": [
    "# Restaurant Inspection data Check \n",
    "rd.info()"
   ]
  },
  {
   "cell_type": "code",
   "execution_count": 5,
   "id": "457feeb2",
   "metadata": {
    "scrolled": false
   },
   "outputs": [
    {
     "name": "stdout",
     "output_type": "stream",
     "text": [
      "<class 'pandas.core.frame.DataFrame'>\n",
      "RangeIndex: 848 entries, 0 to 847\n",
      "Data columns (total 10 columns):\n",
      " #   Column        Non-Null Count  Dtype  \n",
      "---  ------        --------------  -----  \n",
      " 0   alias         848 non-null    object \n",
      " 1   name          848 non-null    object \n",
      " 2   image_url     848 non-null    object \n",
      " 3   url           848 non-null    object \n",
      " 4   review_count  848 non-null    int64  \n",
      " 5   categories    848 non-null    object \n",
      " 6   rating        848 non-null    float64\n",
      " 7   coordinates   848 non-null    object \n",
      " 8   transactions  848 non-null    object \n",
      " 9   location      848 non-null    object \n",
      "dtypes: float64(1), int64(1), object(8)\n",
      "memory usage: 66.4+ KB\n"
     ]
    }
   ],
   "source": [
    "ydf.info()"
   ]
  },
  {
   "cell_type": "markdown",
   "id": "566e6fcc",
   "metadata": {},
   "source": [
    "# **Selecting Subset of Pizza Restaurants in Brooklyn**"
   ]
  },
  {
   "cell_type": "code",
   "execution_count": 6,
   "id": "53105fa1",
   "metadata": {},
   "outputs": [],
   "source": [
    "# Selecting subset of only restaurants from Brooklyn\n",
    "brooklyndf = rd[rd['BORO'].str.lower()=='brooklyn']"
   ]
  },
  {
   "cell_type": "code",
   "execution_count": 7,
   "id": "babf568d",
   "metadata": {},
   "outputs": [],
   "source": [
    "# Selecting subset of only restaurants in Brooklyn that have pizza in the cuisine description \n",
    "pizza_brooklyn_subset = brooklyndf[(brooklyndf['CUISINE DESCRIPTION'].str.lower()=='pizza')]"
   ]
  },
  {
   "cell_type": "code",
   "execution_count": 8,
   "id": "19ae81c9",
   "metadata": {
    "scrolled": true
   },
   "outputs": [],
   "source": [
    "# Filtering out rows with NAN in the 'GRADE' column\n",
    "pizza_brooklyn_subset = pizza_brooklyn_subset.dropna(subset=['GRADE'])"
   ]
  },
  {
   "cell_type": "code",
   "execution_count": 9,
   "id": "25075fd2",
   "metadata": {
    "scrolled": false
   },
   "outputs": [
    {
     "name": "stdout",
     "output_type": "stream",
     "text": [
      "           CAMIS                                  DBA      BORO BUILDING  \\\n",
      "115     50011046               LA BELLA PIZZA EXPRESS  Brooklyn     2178   \n",
      "722     50095131                             DOMINO'S  Brooklyn     2196   \n",
      "829     41459621  GINO'S BRICK OVEN PIZZA & TRATTORIA  Brooklyn   548550   \n",
      "981     50067979                       TONY PEPPERONI  Brooklyn     7502   \n",
      "1087    50134916                           ROMA PIZZA  Brooklyn     1101   \n",
      "...          ...                                  ...       ...      ...   \n",
      "210290  41393052                            IGNAZIO'S  Brooklyn        4   \n",
      "210311  50105343                       PROSPECT PIZZA  Brooklyn      599   \n",
      "210325  50062985           SHIPWRECKED MINIATURE GOLF  Brooklyn      619   \n",
      "210459  50089510                         ROSA'S PIZZA  Brooklyn      374   \n",
      "210585  50001675       GINO'S CUCINA BRICK OVEN PIZZA  Brooklyn      723   \n",
      "\n",
      "                     STREET  ZIPCODE CUISINE DESCRIPTION INSPECTION DATE  \\\n",
      "115               86 STREET  11214.0               Pizza      01/24/2022   \n",
      "722           PITKIN AVENUE  11207.0               Pizza      04/03/2023   \n",
      "829         FLATBUSH AVENUE      NaN               Pizza      10/13/2022   \n",
      "981               18 AVENUE  11214.0               Pizza      07/19/2022   \n",
      "1087               AVENUE U  11223.0               Pizza      07/19/2023   \n",
      "...                     ...      ...                 ...             ...   \n",
      "210290         WATER STREET  11201.0               Pizza      05/08/2023   \n",
      "210311      FLATBUSH AVENUE  11225.0               Pizza      01/05/2022   \n",
      "210325         COURT STREET  11231.0               Pizza      08/20/2022   \n",
      "210459  METROPOLITAN AVENUE  11211.0               Pizza      11/06/2023   \n",
      "210585    WASHINGTON AVENUE  11238.0               Pizza      11/16/2022   \n",
      "\n",
      "                                                 ACTION VIOLATION CODE  \\\n",
      "115     Violations were cited in the following area(s).            02B   \n",
      "722     Violations were cited in the following area(s).            04M   \n",
      "829     Violations were cited in the following area(s).            02B   \n",
      "981     Violations were cited in the following area(s).            04M   \n",
      "1087    Violations were cited in the following area(s).            02B   \n",
      "...                                                 ...            ...   \n",
      "210290  Violations were cited in the following area(s).            10F   \n",
      "210311  Violations were cited in the following area(s).            04N   \n",
      "210325  Violations were cited in the following area(s).            10A   \n",
      "210459  Violations were cited in the following area(s).            10G   \n",
      "210585  Violations were cited in the following area(s).            10F   \n",
      "\n",
      "                                    VIOLATION DESCRIPTION CRITICAL FLAG  \\\n",
      "115            Hot food item not held at or above 140º F.      Critical   \n",
      "722     Live roaches in facility's food or non-food area.      Critical   \n",
      "829        Hot TCS food item not held at or above 140 °F.      Critical   \n",
      "981     Live roaches in facility's food or non-food area.      Critical   \n",
      "1087       Hot TCS food item not held at or above 140 °F.      Critical   \n",
      "...                                                   ...           ...   \n",
      "210290  Non-food contact surface or equipment made of ...  Not Critical   \n",
      "210311  Filth flies or food/refuse/sewage-associated (...      Critical   \n",
      "210325  Toilet facility not maintained or provided wit...  Not Critical   \n",
      "210459  Dishwashing and ware washing: Cleaning and san...  Not Critical   \n",
      "210585  Non-food contact surface or equipment made of ...  Not Critical   \n",
      "\n",
      "        SCORE GRADE  GRADE DATE  \\\n",
      "115      23.0     B  01/24/2022   \n",
      "722      11.0     A  04/03/2023   \n",
      "829       7.0     A  10/13/2022   \n",
      "981      42.0     C  07/19/2022   \n",
      "1087     12.0     A  07/19/2023   \n",
      "...       ...   ...         ...   \n",
      "210290   10.0     A  05/08/2023   \n",
      "210311   21.0     B  01/05/2022   \n",
      "210325    2.0     A  08/20/2022   \n",
      "210459   64.0     C  11/06/2023   \n",
      "210585   13.0     A  11/16/2022   \n",
      "\n",
      "                                      INSPECTION TYPE   Latitude  Longitude  \\\n",
      "115                  Cycle Inspection / Re-inspection  40.602190 -73.994235   \n",
      "722             Cycle Inspection / Initial Inspection  40.672515 -73.891563   \n",
      "829             Cycle Inspection / Initial Inspection   0.000000   0.000000   \n",
      "981                  Cycle Inspection / Re-inspection  40.613298 -73.996081   \n",
      "1087    Pre-permit (Operational) / Initial Inspection  40.598330 -73.961038   \n",
      "...                                               ...        ...        ...   \n",
      "210290          Cycle Inspection / Initial Inspection  40.703187 -73.994085   \n",
      "210311       Pre-permit (Operational) / Re-inspection  40.658718 -73.960505   \n",
      "210325          Cycle Inspection / Initial Inspection  40.670963 -74.001373   \n",
      "210459               Cycle Inspection / Re-inspection  40.714067 -73.955617   \n",
      "210585               Cycle Inspection / Re-inspection  40.675050 -73.963221   \n",
      "\n",
      "        Council District  \n",
      "115                 43.0  \n",
      "722                 42.0  \n",
      "829                  NaN  \n",
      "981                 43.0  \n",
      "1087                48.0  \n",
      "...                  ...  \n",
      "210290              33.0  \n",
      "210311              40.0  \n",
      "210325              38.0  \n",
      "210459              34.0  \n",
      "210585              35.0  \n",
      "\n",
      "[1594 rows x 19 columns]\n"
     ]
    }
   ],
   "source": [
    "# Take a look at Brooklyn pizza restaurants in inspection data\n",
    "print(pizza_brooklyn_subset)"
   ]
  },
  {
   "cell_type": "markdown",
   "id": "9da6d800",
   "metadata": {},
   "source": [
    "# **Merging Yelp Data with Inspections Data**"
   ]
  },
  {
   "cell_type": "code",
   "execution_count": 10,
   "id": "3c1858e0",
   "metadata": {},
   "outputs": [],
   "source": [
    "# Making the names of the restaurants in both data sets compatable for the merge \n",
    "column_name = 'name'\n",
    "# Matching up the names for both datasets\n",
    "ydf['name'] = ydf['name'].apply(lambda x: str(x).upper())"
   ]
  },
  {
   "cell_type": "code",
   "execution_count": 11,
   "id": "fbeeba80",
   "metadata": {
    "scrolled": true
   },
   "outputs": [
    {
     "name": "stdout",
     "output_type": "stream",
     "text": [
      "\n",
      "Merged DataFrame:\n",
      "        CAMIS                                  DBA      BORO BUILDING  \\\n",
      "0    41459621  GINO'S BRICK OVEN PIZZA & TRATTORIA  Brooklyn   548550   \n",
      "1    41459621  GINO'S BRICK OVEN PIZZA & TRATTORIA  Brooklyn   548550   \n",
      "2    41459621  GINO'S BRICK OVEN PIZZA & TRATTORIA  Brooklyn   548550   \n",
      "3    41459621  GINO'S BRICK OVEN PIZZA & TRATTORIA  Brooklyn   548550   \n",
      "4    50134916                           ROMA PIZZA  Brooklyn     1101   \n",
      "..        ...                                  ...       ...      ...   \n",
      "515  41393052                            IGNAZIO'S  Brooklyn        4   \n",
      "516  41393052                            IGNAZIO'S  Brooklyn        4   \n",
      "517  41393052                            IGNAZIO'S  Brooklyn        4   \n",
      "518  41393052                            IGNAZIO'S  Brooklyn        4   \n",
      "519  50000967                              WHEATED  Brooklyn      905   \n",
      "\n",
      "              STREET  ZIPCODE CUISINE DESCRIPTION INSPECTION DATE  \\\n",
      "0    FLATBUSH AVENUE      NaN               Pizza      10/13/2022   \n",
      "1    FLATBUSH AVENUE      NaN               Pizza      09/03/2021   \n",
      "2    FLATBUSH AVENUE      NaN               Pizza      09/03/2021   \n",
      "3    FLATBUSH AVENUE      NaN               Pizza      09/03/2021   \n",
      "4           AVENUE U  11223.0               Pizza      07/19/2023   \n",
      "..               ...      ...                 ...             ...   \n",
      "515     WATER STREET  11201.0               Pizza      04/14/2022   \n",
      "516     WATER STREET  11201.0               Pizza      05/08/2023   \n",
      "517     WATER STREET  11201.0               Pizza      04/14/2022   \n",
      "518     WATER STREET  11201.0               Pizza      05/08/2023   \n",
      "519    CHURCH AVENUE  11218.0               Pizza      02/23/2023   \n",
      "\n",
      "                                              ACTION VIOLATION CODE  ...  \\\n",
      "0    Violations were cited in the following area(s).            02B  ...   \n",
      "1    Violations were cited in the following area(s).            08C  ...   \n",
      "2    Violations were cited in the following area(s).            10F  ...   \n",
      "3    Violations were cited in the following area(s).            02B  ...   \n",
      "4    Violations were cited in the following area(s).            02B  ...   \n",
      "..                                               ...            ...  ...   \n",
      "515  Violations were cited in the following area(s).            10B  ...   \n",
      "516  Violations were cited in the following area(s).            02G  ...   \n",
      "517  Violations were cited in the following area(s).            06C  ...   \n",
      "518  Violations were cited in the following area(s).            10F  ...   \n",
      "519  Violations were cited in the following area(s).            06B  ...   \n",
      "\n",
      "                                    name  \\\n",
      "0    GINO'S BRICK OVEN PIZZA & TRATTORIA   \n",
      "1    GINO'S BRICK OVEN PIZZA & TRATTORIA   \n",
      "2    GINO'S BRICK OVEN PIZZA & TRATTORIA   \n",
      "3    GINO'S BRICK OVEN PIZZA & TRATTORIA   \n",
      "4                             ROMA PIZZA   \n",
      "..                                   ...   \n",
      "515                            IGNAZIO'S   \n",
      "516                            IGNAZIO'S   \n",
      "517                            IGNAZIO'S   \n",
      "518                            IGNAZIO'S   \n",
      "519                              WHEATED   \n",
      "\n",
      "                                             image_url  \\\n",
      "0    https://s3-media1.fl.yelpcdn.com/bphoto/ovQ-Ps...   \n",
      "1    https://s3-media1.fl.yelpcdn.com/bphoto/ovQ-Ps...   \n",
      "2    https://s3-media1.fl.yelpcdn.com/bphoto/ovQ-Ps...   \n",
      "3    https://s3-media1.fl.yelpcdn.com/bphoto/ovQ-Ps...   \n",
      "4    https://s3-media1.fl.yelpcdn.com/bphoto/OQeT14...   \n",
      "..                                                 ...   \n",
      "515  https://s3-media3.fl.yelpcdn.com/bphoto/cpV2ZL...   \n",
      "516  https://s3-media3.fl.yelpcdn.com/bphoto/cpV2ZL...   \n",
      "517  https://s3-media3.fl.yelpcdn.com/bphoto/cpV2ZL...   \n",
      "518  https://s3-media3.fl.yelpcdn.com/bphoto/cpV2ZL...   \n",
      "519  https://s3-media1.fl.yelpcdn.com/bphoto/nGlPNp...   \n",
      "\n",
      "                                                   url review_count  \\\n",
      "0    https://www.yelp.com/biz/ginos-brick-oven-pizz...          277   \n",
      "1    https://www.yelp.com/biz/ginos-brick-oven-pizz...          277   \n",
      "2    https://www.yelp.com/biz/ginos-brick-oven-pizz...          277   \n",
      "3    https://www.yelp.com/biz/ginos-brick-oven-pizz...          277   \n",
      "4    https://www.yelp.com/biz/roma-pizza-new-york-4...          390   \n",
      "..                                                 ...          ...   \n",
      "515  https://www.yelp.com/biz/ignazios-brooklyn?adj...          639   \n",
      "516  https://www.yelp.com/biz/ignazios-brooklyn?adj...          639   \n",
      "517  https://www.yelp.com/biz/ignazios-brooklyn?adj...          639   \n",
      "518  https://www.yelp.com/biz/ignazios-brooklyn?adj...          639   \n",
      "519  https://www.yelp.com/biz/wheated-brooklyn?adju...          398   \n",
      "\n",
      "                                            categories rating  \\\n",
      "0    [{'alias': 'italian', 'title': 'Italian'}, {'a...    4.0   \n",
      "1    [{'alias': 'italian', 'title': 'Italian'}, {'a...    4.0   \n",
      "2    [{'alias': 'italian', 'title': 'Italian'}, {'a...    4.0   \n",
      "3    [{'alias': 'italian', 'title': 'Italian'}, {'a...    4.0   \n",
      "4    [{'alias': 'pizza', 'title': 'Pizza'}, {'alias...    3.5   \n",
      "..                                                 ...    ...   \n",
      "515             [{'alias': 'pizza', 'title': 'Pizza'}]    3.5   \n",
      "516             [{'alias': 'pizza', 'title': 'Pizza'}]    3.5   \n",
      "517             [{'alias': 'pizza', 'title': 'Pizza'}]    3.5   \n",
      "518             [{'alias': 'pizza', 'title': 'Pizza'}]    3.5   \n",
      "519  [{'alias': 'pizza', 'title': 'Pizza'}, {'alias...    4.5   \n",
      "\n",
      "                                           coordinates  \\\n",
      "0    {'latitude': 40.6605221493743, 'longitude': -7...   \n",
      "1    {'latitude': 40.6605221493743, 'longitude': -7...   \n",
      "2    {'latitude': 40.6605221493743, 'longitude': -7...   \n",
      "3    {'latitude': 40.6605221493743, 'longitude': -7...   \n",
      "4       {'latitude': 40.77843, 'longitude': -73.94863}   \n",
      "..                                                 ...   \n",
      "515   {'latitude': 40.703137, 'longitude': -73.993608}   \n",
      "516   {'latitude': 40.703137, 'longitude': -73.993608}   \n",
      "517   {'latitude': 40.703137, 'longitude': -73.993608}   \n",
      "518   {'latitude': 40.703137, 'longitude': -73.993608}   \n",
      "519  {'latitude': 40.6465968960541, 'longitude': -7...   \n",
      "\n",
      "               transactions  \\\n",
      "0    ['pickup', 'delivery']   \n",
      "1    ['pickup', 'delivery']   \n",
      "2    ['pickup', 'delivery']   \n",
      "3    ['pickup', 'delivery']   \n",
      "4    ['delivery', 'pickup']   \n",
      "..                      ...   \n",
      "515  ['pickup', 'delivery']   \n",
      "516  ['pickup', 'delivery']   \n",
      "517  ['pickup', 'delivery']   \n",
      "518  ['pickup', 'delivery']   \n",
      "519            ['delivery']   \n",
      "\n",
      "                                              location _merge  \n",
      "0    {'address1': '548 Flatbush Ave', 'address2': '...   both  \n",
      "1    {'address1': '548 Flatbush Ave', 'address2': '...   both  \n",
      "2    {'address1': '548 Flatbush Ave', 'address2': '...   both  \n",
      "3    {'address1': '548 Flatbush Ave', 'address2': '...   both  \n",
      "4    {'address1': '1701 1st Ave', 'address2': '', '...   both  \n",
      "..                                                 ...    ...  \n",
      "515  {'address1': '4 Water St', 'address2': '', 'ad...   both  \n",
      "516  {'address1': '4 Water St', 'address2': '', 'ad...   both  \n",
      "517  {'address1': '4 Water St', 'address2': '', 'ad...   both  \n",
      "518  {'address1': '4 Water St', 'address2': '', 'ad...   both  \n",
      "519  {'address1': '905 Church Ave', 'address2': '',...   both  \n",
      "\n",
      "[520 rows x 30 columns]\n"
     ]
    }
   ],
   "source": [
    "# Merging the two data sets on the names of the resaurants \n",
    "mdf = pd.merge(pizza_brooklyn_subset, ydf,left_on='DBA', right_on='name', how='inner', indicator=True)\n",
    "\n",
    "# Dropping any Duplicate rows \n",
    "mdf.drop_duplicates (inplace=True)\n",
    "\n",
    "#Display the merged dataframe\n",
    "print (\"\\nMerged DataFrame:\")\n",
    "print(mdf)"
   ]
  },
  {
   "cell_type": "code",
   "execution_count": 12,
   "id": "d547dffd",
   "metadata": {
    "scrolled": false
   },
   "outputs": [
    {
     "name": "stdout",
     "output_type": "stream",
     "text": [
      "<class 'pandas.core.frame.DataFrame'>\n",
      "RangeIndex: 520 entries, 0 to 519\n",
      "Data columns (total 30 columns):\n",
      " #   Column                 Non-Null Count  Dtype   \n",
      "---  ------                 --------------  -----   \n",
      " 0   CAMIS                  520 non-null    int64   \n",
      " 1   DBA                    520 non-null    object  \n",
      " 2   BORO                   520 non-null    object  \n",
      " 3   BUILDING               520 non-null    object  \n",
      " 4   STREET                 520 non-null    object  \n",
      " 5   ZIPCODE                516 non-null    float64 \n",
      " 6   CUISINE DESCRIPTION    520 non-null    object  \n",
      " 7   INSPECTION DATE        520 non-null    object  \n",
      " 8   ACTION                 520 non-null    object  \n",
      " 9   VIOLATION CODE         518 non-null    object  \n",
      " 10  VIOLATION DESCRIPTION  518 non-null    object  \n",
      " 11  CRITICAL FLAG          520 non-null    object  \n",
      " 12  SCORE                  520 non-null    float64 \n",
      " 13  GRADE                  520 non-null    object  \n",
      " 14  GRADE DATE             513 non-null    object  \n",
      " 15  INSPECTION TYPE        520 non-null    object  \n",
      " 16  Latitude               520 non-null    float64 \n",
      " 17  Longitude              520 non-null    float64 \n",
      " 18  Council District       516 non-null    float64 \n",
      " 19  alias                  520 non-null    object  \n",
      " 20  name                   520 non-null    object  \n",
      " 21  image_url              520 non-null    object  \n",
      " 22  url                    520 non-null    object  \n",
      " 23  review_count           520 non-null    int64   \n",
      " 24  categories             520 non-null    object  \n",
      " 25  rating                 520 non-null    float64 \n",
      " 26  coordinates            520 non-null    object  \n",
      " 27  transactions           520 non-null    object  \n",
      " 28  location               520 non-null    object  \n",
      " 29  _merge                 520 non-null    category\n",
      "dtypes: category(1), float64(6), int64(2), object(21)\n",
      "memory usage: 118.6+ KB\n"
     ]
    }
   ],
   "source": [
    "mdf.info()"
   ]
  },
  {
   "cell_type": "markdown",
   "id": "2c24da18",
   "metadata": {},
   "source": [
    "# **Data Cleaning**"
   ]
  },
  {
   "cell_type": "code",
   "execution_count": 13,
   "id": "a3642de9",
   "metadata": {},
   "outputs": [],
   "source": [
    "# Creating a new column 'unique_id' by combining 'name' and 'CAMIS'\n",
    "mdf['unique_id'] = mdf['name'] + '_' + mdf['CAMIS'].astype(str)\n",
    "\n",
    "# Sorting the DataFrame based on the new 'unique_id' column\n",
    "mdf = mdf.sort_values(by='unique_id')\n",
    "\n",
    "# If you want to keep only the last occurrence of each unique identifier, you can use the following:\n",
    "mdf = mdf.sort_values(by='INSPECTION DATE').drop_duplicates(subset=['unique_id'], keep='last')"
   ]
  },
  {
   "cell_type": "code",
   "execution_count": 14,
   "id": "6d30a049",
   "metadata": {},
   "outputs": [],
   "source": [
    "# Dropping irrelevant columns\n",
    "mdf.drop(['_merge', 'GRADE', 'BUILDING', 'ZIPCODE', 'Council District', 'Longitude', 'Latitude', 'coordinates', 'url','CRITICAL FLAG', 'alias', 'categories'], axis=1, inplace=True)"
   ]
  },
  {
   "cell_type": "code",
   "execution_count": 15,
   "id": "5f6cf542",
   "metadata": {},
   "outputs": [
    {
     "data": {
      "text/html": [
       "<div>\n",
       "<style scoped>\n",
       "    .dataframe tbody tr th:only-of-type {\n",
       "        vertical-align: middle;\n",
       "    }\n",
       "\n",
       "    .dataframe tbody tr th {\n",
       "        vertical-align: top;\n",
       "    }\n",
       "\n",
       "    .dataframe thead th {\n",
       "        text-align: right;\n",
       "    }\n",
       "</style>\n",
       "<table border=\"1\" class=\"dataframe\">\n",
       "  <thead>\n",
       "    <tr style=\"text-align: right;\">\n",
       "      <th></th>\n",
       "      <th>Total</th>\n",
       "      <th>Percent</th>\n",
       "    </tr>\n",
       "  </thead>\n",
       "  <tbody>\n",
       "    <tr>\n",
       "      <th>GRADE DATE</th>\n",
       "      <td>2</td>\n",
       "      <td>2.5%</td>\n",
       "    </tr>\n",
       "    <tr>\n",
       "      <th>CAMIS</th>\n",
       "      <td>0</td>\n",
       "      <td>0.0%</td>\n",
       "    </tr>\n",
       "    <tr>\n",
       "      <th>location</th>\n",
       "      <td>0</td>\n",
       "      <td>0.0%</td>\n",
       "    </tr>\n",
       "    <tr>\n",
       "      <th>transactions</th>\n",
       "      <td>0</td>\n",
       "      <td>0.0%</td>\n",
       "    </tr>\n",
       "    <tr>\n",
       "      <th>rating</th>\n",
       "      <td>0</td>\n",
       "      <td>0.0%</td>\n",
       "    </tr>\n",
       "  </tbody>\n",
       "</table>\n",
       "</div>"
      ],
      "text/plain": [
       "              Total Percent\n",
       "GRADE DATE        2    2.5%\n",
       "CAMIS             0    0.0%\n",
       "location          0    0.0%\n",
       "transactions      0    0.0%\n",
       "rating            0    0.0%"
      ]
     },
     "execution_count": 15,
     "metadata": {},
     "output_type": "execute_result"
    }
   ],
   "source": [
    "# checking missing data in data \n",
    "def check_missing_data(rdf):\n",
    "    total = mdf.isnull().sum().sort_values(ascending = False)\n",
    "    percent = (mdf.isnull().sum()/mdf.isnull().count()*100).sort_values(ascending = False)\n",
    "    percent = percent.round(2).astype(str) + '%'\n",
    "    missing_data  = pd.concat([total, percent], axis=1, keys=['Total', 'Percent'])\n",
    "    return missing_data\n",
    "missing_data_result = check_missing_data(mdf)\n",
    "missing_data_result.head()"
   ]
  },
  {
   "cell_type": "code",
   "execution_count": 16,
   "id": "da5ad888",
   "metadata": {},
   "outputs": [],
   "source": [
    "# Function to eliminate rows with missing Grade dates\n",
    "def eliminate_missing_grade_date_rows(mdf):\n",
    "    \"\"\"\n",
    "    Eliminate rows with missing data in the \"GRADE DATE\" column.\n",
    "\n",
    "    Returns:\n",
    "    - Cleaned DataFrame without rows with missing \"GRADE DATE\"\n",
    "    \"\"\"\n",
    "    # Drop rows with missing values in the \"GRADE DATE\" column\n",
    "    cleaned_dataframe = mdf.dropna(subset=[\"GRADE DATE\"])\n",
    "\n",
    "    return cleaned_dataframe\n",
    "\n",
    "mdf = eliminate_missing_grade_date_rows(mdf)"
   ]
  },
  {
   "cell_type": "code",
   "execution_count": 17,
   "id": "1196a865",
   "metadata": {},
   "outputs": [],
   "source": [
    "# Filtering out only the initial inspections and re-inspections\n",
    "def filter_inspection_type(mdf):\n",
    "    \"\"\"\n",
    "    Filter rows based on the values in the \"INSPECTION TYPE\" column.\n",
    "\n",
    "    Returns:\n",
    "    - DataFrame containing only rows with specified inspection types\n",
    "    \"\"\"\n",
    "    inspection_types_to_keep = ['Cycle Inspection / Initial Inspection', 'Cycle Inspection / Re-inspection']\n",
    "    filtered_rdf = mdf.loc[merged_df['INSPECTION TYPE'].isin(inspection_types_to_keep)]\n",
    "\n",
    "    return filtered_rdf"
   ]
  },
  {
   "cell_type": "code",
   "execution_count": 18,
   "id": "060af2c3",
   "metadata": {},
   "outputs": [],
   "source": [
    "#create a dataframe with the most recent inspection data\n",
    "mdf = mdf.sort_values(by='INSPECTION DATE').drop_duplicates(subset=['CAMIS'], keep='last')"
   ]
  },
  {
   "cell_type": "code",
   "execution_count": 19,
   "id": "04b88b77",
   "metadata": {},
   "outputs": [
    {
     "name": "stdout",
     "output_type": "stream",
     "text": [
      "<class 'pandas.core.frame.DataFrame'>\n",
      "Index: 78 entries, 314 to 448\n",
      "Data columns (total 19 columns):\n",
      " #   Column                 Non-Null Count  Dtype  \n",
      "---  ------                 --------------  -----  \n",
      " 0   CAMIS                  78 non-null     int64  \n",
      " 1   DBA                    78 non-null     object \n",
      " 2   BORO                   78 non-null     object \n",
      " 3   STREET                 78 non-null     object \n",
      " 4   CUISINE DESCRIPTION    78 non-null     object \n",
      " 5   INSPECTION DATE        78 non-null     object \n",
      " 6   ACTION                 78 non-null     object \n",
      " 7   VIOLATION CODE         78 non-null     object \n",
      " 8   VIOLATION DESCRIPTION  78 non-null     object \n",
      " 9   SCORE                  78 non-null     float64\n",
      " 10  GRADE DATE             78 non-null     object \n",
      " 11  INSPECTION TYPE        78 non-null     object \n",
      " 12  name                   78 non-null     object \n",
      " 13  image_url              78 non-null     object \n",
      " 14  review_count           78 non-null     int64  \n",
      " 15  rating                 78 non-null     float64\n",
      " 16  transactions           78 non-null     object \n",
      " 17  location               78 non-null     object \n",
      " 18  unique_id              78 non-null     object \n",
      "dtypes: float64(2), int64(2), object(15)\n",
      "memory usage: 12.2+ KB\n"
     ]
    }
   ],
   "source": [
    "mdf.info()"
   ]
  },
  {
   "cell_type": "code",
   "execution_count": 20,
   "id": "b9c72dcd",
   "metadata": {},
   "outputs": [
    {
     "data": {
      "text/html": [
       "<div>\n",
       "<style scoped>\n",
       "    .dataframe tbody tr th:only-of-type {\n",
       "        vertical-align: middle;\n",
       "    }\n",
       "\n",
       "    .dataframe tbody tr th {\n",
       "        vertical-align: top;\n",
       "    }\n",
       "\n",
       "    .dataframe thead th {\n",
       "        text-align: right;\n",
       "    }\n",
       "</style>\n",
       "<table border=\"1\" class=\"dataframe\">\n",
       "  <thead>\n",
       "    <tr style=\"text-align: right;\">\n",
       "      <th></th>\n",
       "      <th>CAMIS</th>\n",
       "      <th>SCORE</th>\n",
       "      <th>review_count</th>\n",
       "      <th>rating</th>\n",
       "    </tr>\n",
       "  </thead>\n",
       "  <tbody>\n",
       "    <tr>\n",
       "      <th>count</th>\n",
       "      <td>7.800000e+01</td>\n",
       "      <td>78.000000</td>\n",
       "      <td>78.000000</td>\n",
       "      <td>78.000000</td>\n",
       "    </tr>\n",
       "    <tr>\n",
       "      <th>mean</th>\n",
       "      <td>4.662822e+07</td>\n",
       "      <td>11.987179</td>\n",
       "      <td>315.500000</td>\n",
       "      <td>3.775641</td>\n",
       "    </tr>\n",
       "    <tr>\n",
       "      <th>std</th>\n",
       "      <td>4.404961e+06</td>\n",
       "      <td>8.449227</td>\n",
       "      <td>602.204106</td>\n",
       "      <td>0.579114</td>\n",
       "    </tr>\n",
       "    <tr>\n",
       "      <th>min</th>\n",
       "      <td>4.038630e+07</td>\n",
       "      <td>2.000000</td>\n",
       "      <td>22.000000</td>\n",
       "      <td>1.500000</td>\n",
       "    </tr>\n",
       "    <tr>\n",
       "      <th>25%</th>\n",
       "      <td>4.139588e+07</td>\n",
       "      <td>8.250000</td>\n",
       "      <td>71.500000</td>\n",
       "      <td>3.500000</td>\n",
       "    </tr>\n",
       "    <tr>\n",
       "      <th>50%</th>\n",
       "      <td>5.005609e+07</td>\n",
       "      <td>12.000000</td>\n",
       "      <td>183.000000</td>\n",
       "      <td>4.000000</td>\n",
       "    </tr>\n",
       "    <tr>\n",
       "      <th>75%</th>\n",
       "      <td>5.009229e+07</td>\n",
       "      <td>13.000000</td>\n",
       "      <td>303.000000</td>\n",
       "      <td>4.000000</td>\n",
       "    </tr>\n",
       "    <tr>\n",
       "      <th>max</th>\n",
       "      <td>5.014129e+07</td>\n",
       "      <td>64.000000</td>\n",
       "      <td>4219.000000</td>\n",
       "      <td>5.000000</td>\n",
       "    </tr>\n",
       "  </tbody>\n",
       "</table>\n",
       "</div>"
      ],
      "text/plain": [
       "              CAMIS      SCORE  review_count     rating\n",
       "count  7.800000e+01  78.000000     78.000000  78.000000\n",
       "mean   4.662822e+07  11.987179    315.500000   3.775641\n",
       "std    4.404961e+06   8.449227    602.204106   0.579114\n",
       "min    4.038630e+07   2.000000     22.000000   1.500000\n",
       "25%    4.139588e+07   8.250000     71.500000   3.500000\n",
       "50%    5.005609e+07  12.000000    183.000000   4.000000\n",
       "75%    5.009229e+07  13.000000    303.000000   4.000000\n",
       "max    5.014129e+07  64.000000   4219.000000   5.000000"
      ]
     },
     "execution_count": 20,
     "metadata": {},
     "output_type": "execute_result"
    }
   ],
   "source": [
    "mdf.describe()"
   ]
  },
  {
   "cell_type": "code",
   "execution_count": 21,
   "id": "a1a7caca",
   "metadata": {
    "scrolled": false
   },
   "outputs": [
    {
     "data": {
      "text/html": [
       "<div>\n",
       "<style scoped>\n",
       "    .dataframe tbody tr th:only-of-type {\n",
       "        vertical-align: middle;\n",
       "    }\n",
       "\n",
       "    .dataframe tbody tr th {\n",
       "        vertical-align: top;\n",
       "    }\n",
       "\n",
       "    .dataframe thead th {\n",
       "        text-align: right;\n",
       "    }\n",
       "</style>\n",
       "<table border=\"1\" class=\"dataframe\">\n",
       "  <thead>\n",
       "    <tr style=\"text-align: right;\">\n",
       "      <th></th>\n",
       "      <th>CAMIS</th>\n",
       "      <th>DBA</th>\n",
       "      <th>BORO</th>\n",
       "      <th>STREET</th>\n",
       "      <th>CUISINE DESCRIPTION</th>\n",
       "      <th>INSPECTION DATE</th>\n",
       "      <th>ACTION</th>\n",
       "      <th>VIOLATION CODE</th>\n",
       "      <th>VIOLATION DESCRIPTION</th>\n",
       "      <th>SCORE</th>\n",
       "      <th>GRADE DATE</th>\n",
       "      <th>INSPECTION TYPE</th>\n",
       "      <th>name</th>\n",
       "      <th>image_url</th>\n",
       "      <th>review_count</th>\n",
       "      <th>rating</th>\n",
       "      <th>transactions</th>\n",
       "      <th>location</th>\n",
       "      <th>unique_id</th>\n",
       "    </tr>\n",
       "  </thead>\n",
       "  <tbody>\n",
       "    <tr>\n",
       "      <th>314</th>\n",
       "      <td>50084972</td>\n",
       "      <td>JOE'S PIZZA</td>\n",
       "      <td>Brooklyn</td>\n",
       "      <td>5 AVENUE</td>\n",
       "      <td>Pizza</td>\n",
       "      <td>01/03/2023</td>\n",
       "      <td>Violations were cited in the following area(s).</td>\n",
       "      <td>08A</td>\n",
       "      <td>Establishment is not free of harborage or cond...</td>\n",
       "      <td>18.0</td>\n",
       "      <td>01/03/2023</td>\n",
       "      <td>Cycle Inspection / Re-inspection</td>\n",
       "      <td>JOE'S PIZZA</td>\n",
       "      <td>https://s3-media4.fl.yelpcdn.com/bphoto/sUjegc...</td>\n",
       "      <td>517</td>\n",
       "      <td>4.0</td>\n",
       "      <td>['delivery', 'pickup']</td>\n",
       "      <td>{'address1': '124 Fulton St', 'address2': '', ...</td>\n",
       "      <td>JOE'S PIZZA_50084972</td>\n",
       "    </tr>\n",
       "    <tr>\n",
       "      <th>16</th>\n",
       "      <td>41702359</td>\n",
       "      <td>TONY'S PIZZA</td>\n",
       "      <td>Brooklyn</td>\n",
       "      <td>KNICKERBOCKER AVENUE</td>\n",
       "      <td>Pizza</td>\n",
       "      <td>01/11/2023</td>\n",
       "      <td>Violations were cited in the following area(s).</td>\n",
       "      <td>10F</td>\n",
       "      <td>Non-food contact surface or equipment made of ...</td>\n",
       "      <td>9.0</td>\n",
       "      <td>01/11/2023</td>\n",
       "      <td>Cycle Inspection / Re-inspection</td>\n",
       "      <td>TONY'S PIZZA</td>\n",
       "      <td>https://s3-media4.fl.yelpcdn.com/bphoto/VaE2Ry...</td>\n",
       "      <td>183</td>\n",
       "      <td>3.5</td>\n",
       "      <td>['pickup', 'delivery']</td>\n",
       "      <td>{'address1': '355 Graham Ave', 'address2': '',...</td>\n",
       "      <td>TONY'S PIZZA_41702359</td>\n",
       "    </tr>\n",
       "    <tr>\n",
       "      <th>392</th>\n",
       "      <td>50001003</td>\n",
       "      <td>FORNINO</td>\n",
       "      <td>Brooklyn</td>\n",
       "      <td>MANHATTAN AVENUE</td>\n",
       "      <td>Pizza</td>\n",
       "      <td>01/15/2023</td>\n",
       "      <td>Violations were cited in the following area(s).</td>\n",
       "      <td>02G</td>\n",
       "      <td>Cold TCS food item held above 41 °F; smoked or...</td>\n",
       "      <td>27.0</td>\n",
       "      <td>01/15/2023</td>\n",
       "      <td>Cycle Inspection / Re-inspection</td>\n",
       "      <td>FORNINO</td>\n",
       "      <td>https://s3-media2.fl.yelpcdn.com/bphoto/TabOPQ...</td>\n",
       "      <td>303</td>\n",
       "      <td>3.5</td>\n",
       "      <td>[]</td>\n",
       "      <td>{'address1': 'Pier 6 Brooklyn Bridge Park', 'a...</td>\n",
       "      <td>FORNINO_50001003</td>\n",
       "    </tr>\n",
       "    <tr>\n",
       "      <th>229</th>\n",
       "      <td>50085693</td>\n",
       "      <td>JOE'S PIZZA OF PARK SLOPE</td>\n",
       "      <td>Brooklyn</td>\n",
       "      <td>5 AVENUE</td>\n",
       "      <td>Pizza</td>\n",
       "      <td>01/24/2023</td>\n",
       "      <td>Violations were cited in the following area(s).</td>\n",
       "      <td>04A</td>\n",
       "      <td>Food Protection Certificate (FPC) not held by ...</td>\n",
       "      <td>37.0</td>\n",
       "      <td>01/24/2023</td>\n",
       "      <td>Cycle Inspection / Re-inspection</td>\n",
       "      <td>JOE'S PIZZA OF PARK SLOPE</td>\n",
       "      <td>https://s3-media3.fl.yelpcdn.com/bphoto/rvZE8N...</td>\n",
       "      <td>40</td>\n",
       "      <td>2.0</td>\n",
       "      <td>['pickup', 'delivery']</td>\n",
       "      <td>{'address1': '349 5th Ave', 'address2': '', 'a...</td>\n",
       "      <td>JOE'S PIZZA OF PARK SLOPE_50085693</td>\n",
       "    </tr>\n",
       "    <tr>\n",
       "      <th>519</th>\n",
       "      <td>50000967</td>\n",
       "      <td>WHEATED</td>\n",
       "      <td>Brooklyn</td>\n",
       "      <td>CHURCH AVENUE</td>\n",
       "      <td>Pizza</td>\n",
       "      <td>02/23/2023</td>\n",
       "      <td>Violations were cited in the following area(s).</td>\n",
       "      <td>06B</td>\n",
       "      <td>Tobacco or electronic cigarette use, eating, o...</td>\n",
       "      <td>5.0</td>\n",
       "      <td>02/23/2023</td>\n",
       "      <td>Cycle Inspection / Re-inspection</td>\n",
       "      <td>WHEATED</td>\n",
       "      <td>https://s3-media1.fl.yelpcdn.com/bphoto/nGlPNp...</td>\n",
       "      <td>398</td>\n",
       "      <td>4.5</td>\n",
       "      <td>['delivery']</td>\n",
       "      <td>{'address1': '905 Church Ave', 'address2': '',...</td>\n",
       "      <td>WHEATED_50000967</td>\n",
       "    </tr>\n",
       "  </tbody>\n",
       "</table>\n",
       "</div>"
      ],
      "text/plain": [
       "        CAMIS                        DBA      BORO                STREET  \\\n",
       "314  50084972                JOE'S PIZZA  Brooklyn              5 AVENUE   \n",
       "16   41702359               TONY'S PIZZA  Brooklyn  KNICKERBOCKER AVENUE   \n",
       "392  50001003                    FORNINO  Brooklyn      MANHATTAN AVENUE   \n",
       "229  50085693  JOE'S PIZZA OF PARK SLOPE  Brooklyn              5 AVENUE   \n",
       "519  50000967                    WHEATED  Brooklyn         CHURCH AVENUE   \n",
       "\n",
       "    CUISINE DESCRIPTION INSPECTION DATE  \\\n",
       "314               Pizza      01/03/2023   \n",
       "16                Pizza      01/11/2023   \n",
       "392               Pizza      01/15/2023   \n",
       "229               Pizza      01/24/2023   \n",
       "519               Pizza      02/23/2023   \n",
       "\n",
       "                                              ACTION VIOLATION CODE  \\\n",
       "314  Violations were cited in the following area(s).            08A   \n",
       "16   Violations were cited in the following area(s).            10F   \n",
       "392  Violations were cited in the following area(s).            02G   \n",
       "229  Violations were cited in the following area(s).            04A   \n",
       "519  Violations were cited in the following area(s).            06B   \n",
       "\n",
       "                                 VIOLATION DESCRIPTION  SCORE  GRADE DATE  \\\n",
       "314  Establishment is not free of harborage or cond...   18.0  01/03/2023   \n",
       "16   Non-food contact surface or equipment made of ...    9.0  01/11/2023   \n",
       "392  Cold TCS food item held above 41 °F; smoked or...   27.0  01/15/2023   \n",
       "229  Food Protection Certificate (FPC) not held by ...   37.0  01/24/2023   \n",
       "519  Tobacco or electronic cigarette use, eating, o...    5.0  02/23/2023   \n",
       "\n",
       "                      INSPECTION TYPE                       name  \\\n",
       "314  Cycle Inspection / Re-inspection                JOE'S PIZZA   \n",
       "16   Cycle Inspection / Re-inspection               TONY'S PIZZA   \n",
       "392  Cycle Inspection / Re-inspection                    FORNINO   \n",
       "229  Cycle Inspection / Re-inspection  JOE'S PIZZA OF PARK SLOPE   \n",
       "519  Cycle Inspection / Re-inspection                    WHEATED   \n",
       "\n",
       "                                             image_url  review_count  rating  \\\n",
       "314  https://s3-media4.fl.yelpcdn.com/bphoto/sUjegc...           517     4.0   \n",
       "16   https://s3-media4.fl.yelpcdn.com/bphoto/VaE2Ry...           183     3.5   \n",
       "392  https://s3-media2.fl.yelpcdn.com/bphoto/TabOPQ...           303     3.5   \n",
       "229  https://s3-media3.fl.yelpcdn.com/bphoto/rvZE8N...            40     2.0   \n",
       "519  https://s3-media1.fl.yelpcdn.com/bphoto/nGlPNp...           398     4.5   \n",
       "\n",
       "               transactions  \\\n",
       "314  ['delivery', 'pickup']   \n",
       "16   ['pickup', 'delivery']   \n",
       "392                      []   \n",
       "229  ['pickup', 'delivery']   \n",
       "519            ['delivery']   \n",
       "\n",
       "                                              location  \\\n",
       "314  {'address1': '124 Fulton St', 'address2': '', ...   \n",
       "16   {'address1': '355 Graham Ave', 'address2': '',...   \n",
       "392  {'address1': 'Pier 6 Brooklyn Bridge Park', 'a...   \n",
       "229  {'address1': '349 5th Ave', 'address2': '', 'a...   \n",
       "519  {'address1': '905 Church Ave', 'address2': '',...   \n",
       "\n",
       "                              unique_id  \n",
       "314                JOE'S PIZZA_50084972  \n",
       "16                TONY'S PIZZA_41702359  \n",
       "392                    FORNINO_50001003  \n",
       "229  JOE'S PIZZA OF PARK SLOPE_50085693  \n",
       "519                    WHEATED_50000967  "
      ]
     },
     "execution_count": 21,
     "metadata": {},
     "output_type": "execute_result"
    }
   ],
   "source": [
    "mdf.head()"
   ]
  },
  {
   "cell_type": "markdown",
   "id": "d24dad2d",
   "metadata": {},
   "source": [
    "# **Hypothesis Test 1**"
   ]
  },
  {
   "cell_type": "markdown",
   "id": "a8ca31d2",
   "metadata": {},
   "source": [
    "**Try to find a correlation between scores on inspections and the ratings on Yelp**\n",
    "\n",
    "\n",
    " - The null hypothesis for this question would be that the restaurant inspection score and review count does not significantly affect the rating reviews on Yelp for pizza restaurants in Brooklyn NY.\n",
    " \n",
    "  - The alternative hypothesis for this question would be that the restaurant inspection score and review count does affect the rating reviews on Yelp for the pizza restaurants in Brooklyn NY. "
   ]
  },
  {
   "cell_type": "code",
   "execution_count": 22,
   "id": "88cea578",
   "metadata": {},
   "outputs": [
    {
     "name": "stdout",
     "output_type": "stream",
     "text": [
      "Correlation: 0.17\n",
      "P-value: 0.1346\n",
      "There is no significant correlation.\n"
     ]
    }
   ],
   "source": [
    "# Perform Pearson correlation test \n",
    "correlation, p_value = pearsonr(mdf['SCORE'], mdf['review_count'])\n",
    "\n",
    "# Print results\n",
    "print(f'Correlation: {correlation:.2f}')\n",
    "print(f'P-value: {p_value:.4f}')\n",
    "\n",
    "# Check for significance based on the p-value\n",
    "if p_value < 0.05:\n",
    "    print('The correlation is statistically significant.')\n",
    "else:\n",
    "    print('There is no significant correlation.')"
   ]
  },
  {
   "cell_type": "code",
   "execution_count": 23,
   "id": "23661a25",
   "metadata": {},
   "outputs": [
    {
     "name": "stdout",
     "output_type": "stream",
     "text": [
      "                 SCORE  review_count\n",
      "SCORE         1.000000      0.170915\n",
      "review_count  0.170915      1.000000\n"
     ]
    }
   ],
   "source": [
    "# Select the columns of interest\n",
    "selected_columns = ['SCORE', 'review_count']\n",
    "subset_df = mdf[selected_columns]\n",
    "\n",
    "# Calculate the correlation matrix\n",
    "correlation_matrix = subset_df.corr()\n",
    "\n",
    "# Print or display the correlation matrix\n",
    "print(correlation_matrix)"
   ]
  },
  {
   "cell_type": "code",
   "execution_count": 24,
   "id": "226bfaf5",
   "metadata": {
    "scrolled": true
   },
   "outputs": [
    {
     "data": {
      "image/png": "[encoded data removed]",
      "text/plain": [
       "<Figure size 800x600 with 2 Axes>"
      ]
     },
     "metadata": {},
     "output_type": "display_data"
    }
   ],
   "source": [
    "numeric_columns = ['SCORE', 'review_count']\n",
    "\n",
    "mdf_numeric = mdf[numeric_columns].apply(pd.to_numeric, errors='coerce').dropna()\n",
    "\n",
    "c_matrix = mdf_numeric.corr()\n",
    "\n",
    "plt.figure(figsize=(8, 6))\n",
    "sns.heatmap(c_matrix, annot=True, cmap='coolwarm', fmt=\".2f\", vmin=.1, vmax=1)\n",
    "plt.title('Correlation Map')\n",
    "plt.show()"
   ]
  },
  {
   "cell_type": "markdown",
   "id": "327038b9",
   "metadata": {},
   "source": [
    "- It seems like the correlation between SCORE and review_count is relatively low (0.17), and therefore it is not visually prominent on the heatmap."
   ]
  },
  {
   "cell_type": "code",
   "execution_count": 25,
   "id": "bab5600b",
   "metadata": {},
   "outputs": [
    {
     "data": {
      "image/png": "[encoded data removed]",
      "text/plain": [
       "<Figure size 640x480 with 2 Axes>"
      ]
     },
     "metadata": {},
     "output_type": "display_data"
    }
   ],
   "source": [
    "# Assuming 'restaurant_name' is a non-numeric column\n",
    "numeric_data = mdf.select_dtypes(include=['float64', 'int64'])\n",
    "\n",
    "correlation_matrix = numeric_data.corr()\n",
    "\n",
    "# Create a heatmap\n",
    "sns.heatmap(correlation_matrix, annot=True, cmap='coolwarm', fmt='.2f', linewidths=.5)\n",
    "plt.title('Correlation Matrix')\n",
    "plt.show()"
   ]
  },
  {
   "cell_type": "code",
   "execution_count": 26,
   "id": "da2c7985",
   "metadata": {},
   "outputs": [
    {
     "data": {
      "image/png": "[encoded data removed]",
      "text/plain": [
       "<Figure size 640x480 with 1 Axes>"
      ]
     },
     "metadata": {},
     "output_type": "display_data"
    }
   ],
   "source": [
    "plt.scatter(mdf_numeric['review_count'], mdf_numeric['SCORE'])\n",
    "plt.xlabel('review_count')\n",
    "plt.ylabel('SCORE')\n",
    "plt.title('Scatter Plot: SCORE vs review_count')\n",
    "plt.show()"
   ]
  },
  {
   "cell_type": "code",
   "execution_count": 27,
   "id": "85636455",
   "metadata": {},
   "outputs": [
    {
     "data": {
      "image/png": "[encoded data removed]",
      "text/plain": [
       "<Figure size 500x500 with 6 Axes>"
      ]
     },
     "metadata": {},
     "output_type": "display_data"
    }
   ],
   "source": [
    "sns.pairplot(mdf_numeric)\n",
    "plt.show()"
   ]
  },
  {
   "cell_type": "code",
   "execution_count": 28,
   "id": "32dd4986",
   "metadata": {},
   "outputs": [
    {
     "data": {
      "image/png": "[encoded data removed]",
      "text/plain": [
       "<Figure size 640x480 with 1 Axes>"
      ]
     },
     "metadata": {},
     "output_type": "display_data"
    }
   ],
   "source": [
    "sns.regplot(x='review_count', y='SCORE', data=mdf_numeric)\n",
    "plt.show()"
   ]
  },
  {
   "cell_type": "code",
   "execution_count": 29,
   "id": "b7391617",
   "metadata": {},
   "outputs": [
    {
     "data": {
      "image/png": "[encoded data removed]",
      "text/plain": [
       "<Figure size 640x480 with 1 Axes>"
      ]
     },
     "metadata": {},
     "output_type": "display_data"
    }
   ],
   "source": [
    "plt.hist(mdf_numeric['review_count'], bins=20, color='blue', alpha=0.7, label='review_count')\n",
    "plt.xlabel('review_count')\n",
    "plt.ylabel('Frequency')\n",
    "plt.title('Histogram: review_count')\n",
    "plt.legend()\n",
    "plt.show()"
   ]
  },
  {
   "cell_type": "code",
   "execution_count": 30,
   "id": "b44f7b94",
   "metadata": {},
   "outputs": [
    {
     "data": {
      "image/png": "[encoded data removed]",
      "text/plain": [
       "<Figure size 640x480 with 1 Axes>"
      ]
     },
     "metadata": {},
     "output_type": "display_data"
    }
   ],
   "source": [
    "sns.kdeplot(mdf_numeric['review_count'], shade=True, color='green', label='review_count')\n",
    "plt.xlabel('review_count')\n",
    "plt.ylabel('Density')\n",
    "plt.title('Kernel Density Estimate Plot: review_count')\n",
    "plt.legend()\n",
    "plt.show()"
   ]
  },
  {
   "cell_type": "code",
   "execution_count": null,
   "id": "45fff6d3",
   "metadata": {},
   "outputs": [],
   "source": []
  },
  {
   "cell_type": "code",
   "execution_count": null,
   "id": "0ae63411",
   "metadata": {},
   "outputs": [],
   "source": []
  }
 ],
 "metadata": {
  "kernelspec": {
   "display_name": "dojo-env",
   "language": "python",
   "name": "dojo-env"
  },
  "language_info": {
   "codemirror_mode": {
    "name": "ipython",
    "version": 3
   },
   "file_extension": ".py",
   "mimetype": "text/x-python",
   "name": "python",
   "nbconvert_exporter": "python",
   "pygments_lexer": "ipython3",
   "version": "3.11.5"
  },
  "toc": {
   "base_numbering": 1,
   "nav_menu": {},
   "number_sections": false,
   "sideBar": true,
   "skip_h1_title": false,
   "title_cell": "Table of Contents",
   "title_sidebar": "Contents",
   "toc_cell": false,
   "toc_position": {
    "height": "calc(100% - 180px)",
    "left": "10px",
    "top": "150px",
    "width": "231.325px"
   },
   "toc_section_display": true,
   "toc_window_display": true
  }
 },
 "nbformat": 4,
 "nbformat_minor": 5
}
