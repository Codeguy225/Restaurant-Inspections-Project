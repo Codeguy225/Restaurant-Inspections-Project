{
 "cells": [
  {
   "cell_type": "markdown",
   "id": "38a9f93f",
   "metadata": {},
   "source": [
    "# **Hpothesis Testing**"
   ]
  },
  {
   "cell_type": "markdown",
   "id": "c0a830e0",
   "metadata": {},
   "source": [
    "# **Imports**"
   ]
  },
  {
   "cell_type": "code",
   "execution_count": 1,
   "id": "130a048a",
   "metadata": {},
   "outputs": [],
   "source": [
    "import numpy as np\n",
    "import pandas as pd\n",
    "import seaborn as sns\n",
    "import matplotlib.pyplot as plt\n",
    "import plotly\n",
    "\n",
    "\n",
    "#Scipy\n",
    "from scipy import stats\n",
    "from scipy.stats import norm, pearsonr\n",
    "import statsmodels.api as sm\n",
    "\n",
    "# Warnings \n",
    "import warnings \n",
    "warnings.filterwarnings(\"ignore\")"
   ]
  },
  {
   "cell_type": "markdown",
   "id": "8c7246e5",
   "metadata": {},
   "source": [
    "# **Loading The Data**"
   ]
  },
  {
   "cell_type": "code",
   "execution_count": 2,
   "id": "f14f0802",
   "metadata": {},
   "outputs": [],
   "source": [
    "# Loading the NYC Restaurant Data \n",
    "rd = pd.read_csv('rd')"
   ]
  },
  {
   "cell_type": "code",
   "execution_count": 3,
   "id": "46402d86",
   "metadata": {},
   "outputs": [],
   "source": [
    "# Loading the Yelp Data for NYC Restaurant Data \n",
    "ydf = pd.read_csv('ydf')"
   ]
  },
  {
   "cell_type": "code",
   "execution_count": 4,
   "id": "6273a683",
   "metadata": {
    "scrolled": true
   },
   "outputs": [
    {
     "name": "stdout",
     "output_type": "stream",
     "text": [
      "<class 'pandas.core.frame.DataFrame'>\n",
      "RangeIndex: 209789 entries, 0 to 209788\n",
      "Data columns (total 19 columns):\n",
      " #   Column                 Non-Null Count   Dtype  \n",
      "---  ------                 --------------   -----  \n",
      " 0   CAMIS                  209789 non-null  int64  \n",
      " 1   DBA                    209165 non-null  object \n",
      " 2   BORO                   209789 non-null  object \n",
      " 3   BUILDING               209481 non-null  object \n",
      " 4   STREET                 209783 non-null  object \n",
      " 5   ZIPCODE                207093 non-null  float64\n",
      " 6   CUISINE DESCRIPTION    207365 non-null  object \n",
      " 7   INSPECTION DATE        209789 non-null  object \n",
      " 8   ACTION                 207365 non-null  object \n",
      " 9   VIOLATION CODE         206208 non-null  object \n",
      " 10  VIOLATION DESCRIPTION  206208 non-null  object \n",
      " 11  CRITICAL FLAG          209789 non-null  object \n",
      " 12  SCORE                  199793 non-null  float64\n",
      " 13  GRADE                  102961 non-null  object \n",
      " 14  GRADE DATE             94208 non-null   object \n",
      " 15  INSPECTION TYPE        207365 non-null  object \n",
      " 16  Latitude               209512 non-null  float64\n",
      " 17  Longitude              209512 non-null  float64\n",
      " 18  Council District       206549 non-null  float64\n",
      "dtypes: float64(5), int64(1), object(13)\n",
      "memory usage: 30.4+ MB\n"
     ]
    }
   ],
   "source": [
    "# Restaurant Inspection data Check \n",
    "rd.info()"
   ]
  },
  {
   "cell_type": "code",
   "execution_count": 5,
   "id": "457feeb2",
   "metadata": {
    "scrolled": true
   },
   "outputs": [
    {
     "name": "stdout",
     "output_type": "stream",
     "text": [
      "<class 'pandas.core.frame.DataFrame'>\n",
      "RangeIndex: 848 entries, 0 to 847\n",
      "Data columns (total 10 columns):\n",
      " #   Column        Non-Null Count  Dtype  \n",
      "---  ------        --------------  -----  \n",
      " 0   alias         848 non-null    object \n",
      " 1   name          848 non-null    object \n",
      " 2   image_url     848 non-null    object \n",
      " 3   url           848 non-null    object \n",
      " 4   review_count  848 non-null    int64  \n",
      " 5   categories    848 non-null    object \n",
      " 6   rating        848 non-null    float64\n",
      " 7   coordinates   848 non-null    object \n",
      " 8   transactions  848 non-null    object \n",
      " 9   location      848 non-null    object \n",
      "dtypes: float64(1), int64(1), object(8)\n",
      "memory usage: 66.4+ KB\n"
     ]
    }
   ],
   "source": [
    "ydf.info()"
   ]
  },
  {
   "cell_type": "markdown",
   "id": "2c24da18",
   "metadata": {},
   "source": [
    "# **Data Cleaning**"
   ]
  },
  {
   "cell_type": "code",
   "execution_count": 6,
   "id": "53105fa1",
   "metadata": {},
   "outputs": [],
   "source": [
    "# Selecting subset of only restaurants from Brooklyn\n",
    "brooklyndf = rd[rd['BORO'].str.lower()=='brooklyn']"
   ]
  },
  {
   "cell_type": "code",
   "execution_count": 7,
   "id": "babf568d",
   "metadata": {},
   "outputs": [],
   "source": [
    "# Selecting subset of only restaurants in Brooklyn that have pizza in the cuisine description \n",
    "pizza_brooklyn_subset = brooklyndf[(brooklyndf['CUISINE DESCRIPTION'].str.lower()=='pizza')]"
   ]
  },
  {
   "cell_type": "code",
   "execution_count": 8,
   "id": "19ae81c9",
   "metadata": {
    "scrolled": true
   },
   "outputs": [],
   "source": [
    "# Filtering out rows with NAN in the 'GRADE' column\n",
    "pizza_brooklyn_subset = pizza_brooklyn_subset.dropna(subset=['GRADE'])"
   ]
  },
  {
   "cell_type": "code",
   "execution_count": 9,
   "id": "25075fd2",
   "metadata": {
    "scrolled": false
   },
   "outputs": [
    {
     "name": "stdout",
     "output_type": "stream",
     "text": [
      "           CAMIS                     DBA      BORO BUILDING  \\\n",
      "181     40616509               MONTY Q'S  Brooklyn      158   \n",
      "211     41675367            J-M PIZZA II  Brooklyn     1323   \n",
      "578     41296556        ENOTECA ON COURT  Brooklyn      347   \n",
      "668     50047483          LOVE AND DOUGH  Brooklyn       68   \n",
      "1002    50073372  PINO'S PIZZA AND GRILL  Brooklyn     2025   \n",
      "...          ...                     ...       ...      ...   \n",
      "208269  40396492      ROYAL KING'S PIZZA  Brooklyn     5211   \n",
      "208503  41674167            FRANKS PIZZA  Brooklyn     8025   \n",
      "209492  50033400        PALACE ON FULTON  Brooklyn     1882   \n",
      "209504  50140484           MUNDO'S PIZZA  Brooklyn       25   \n",
      "209771  50041320  A & L PIZZA RESTAURANT  Brooklyn     6024   \n",
      "\n",
      "                   STREET  ZIPCODE CUISINE DESCRIPTION INSPECTION DATE  \\\n",
      "181       MONTAGUE STREET  11201.0               Pizza      07/19/2022   \n",
      "211              AVENUE U  11229.0               Pizza      01/06/2022   \n",
      "578          COURT STREET  11231.0               Pizza      07/23/2021   \n",
      "668            JAY STREET  11201.0               Pizza      03/21/2022   \n",
      "1002          BATH AVENUE  11214.0               Pizza      10/20/2022   \n",
      "...                   ...      ...                 ...             ...   \n",
      "208269           5 AVENUE  11220.0               Pizza      01/10/2022   \n",
      "208503   FLATLANDS AVENUE  11236.0               Pizza      02/13/2023   \n",
      "209492      FULTON STREET  11233.0               Pizza      08/16/2022   \n",
      "209504  NORTH    5 STREET  11249.0               Pizza      11/20/2023   \n",
      "209771          18 AVENUE  11204.0               Pizza      01/25/2022   \n",
      "\n",
      "                                                 ACTION VIOLATION CODE  \\\n",
      "181     Violations were cited in the following area(s).            04M   \n",
      "211     Violations were cited in the following area(s).            02B   \n",
      "578     Violations were cited in the following area(s).            10J   \n",
      "668     Violations were cited in the following area(s).            10J   \n",
      "1002    Violations were cited in the following area(s).            09B   \n",
      "...                                                 ...            ...   \n",
      "208269  Violations were cited in the following area(s).            04K   \n",
      "208503  Violations were cited in the following area(s).            10F   \n",
      "209492                Establishment re-opened by DOHMH.            10F   \n",
      "209504  Violations were cited in the following area(s).            10G   \n",
      "209771  Violations were cited in the following area(s).            04M   \n",
      "\n",
      "                                    VIOLATION DESCRIPTION CRITICAL FLAG  \\\n",
      "181     Live roaches in facility's food or non-food area.      Critical   \n",
      "211            Hot food item not held at or above 140º F.      Critical   \n",
      "578                             Hand wash sign not posted  Not Critical   \n",
      "668                             Hand wash sign not posted  Not Critical   \n",
      "1002                          Thawing procedure improper.  Not Critical   \n",
      "...                                                   ...           ...   \n",
      "208269  Evidence of rats or live rats present in facil...      Critical   \n",
      "208503  Non-food contact surface or equipment made of ...  Not Critical   \n",
      "209492  Non-food contact surface or equipment made of ...  Not Critical   \n",
      "209504  Dishwashing and ware washing: Cleaning and san...  Not Critical   \n",
      "209771  Live roaches present in facility's food and/or...      Critical   \n",
      "\n",
      "        SCORE GRADE  GRADE DATE  \\\n",
      "181      10.0     A  07/19/2022   \n",
      "211      11.0     A  01/06/2022   \n",
      "578       7.0     A  07/23/2021   \n",
      "668       9.0     A  03/21/2022   \n",
      "1002     13.0     A  10/20/2022   \n",
      "...       ...   ...         ...   \n",
      "208269   12.0     A  01/10/2022   \n",
      "208503    3.0     A  02/13/2023   \n",
      "209492    2.0     Z  08/16/2022   \n",
      "209504   28.0     N         NaN   \n",
      "209771   10.0     A  01/25/2022   \n",
      "\n",
      "                                      INSPECTION TYPE   Latitude  Longitude  \\\n",
      "181             Cycle Inspection / Initial Inspection  40.694415 -73.992986   \n",
      "211                  Cycle Inspection / Re-inspection  40.598661 -73.957977   \n",
      "578             Cycle Inspection / Initial Inspection  40.682225 -73.995951   \n",
      "668                  Cycle Inspection / Re-inspection  40.702755 -73.986681   \n",
      "1002            Cycle Inspection / Initial Inspection  40.600886 -74.000731   \n",
      "...                                               ...        ...        ...   \n",
      "208269          Cycle Inspection / Initial Inspection  40.643850 -74.011603   \n",
      "208503               Cycle Inspection / Re-inspection  40.635668 -73.913039   \n",
      "209492        Cycle Inspection / Reopening Inspection  40.679000 -73.924263   \n",
      "209504  Pre-permit (Operational) / Initial Inspection  40.719348 -73.963088   \n",
      "209771               Cycle Inspection / Re-inspection  40.621831 -73.987453   \n",
      "\n",
      "        Council District  \n",
      "181                 33.0  \n",
      "211                 48.0  \n",
      "578                 39.0  \n",
      "668                 33.0  \n",
      "1002                43.0  \n",
      "...                  ...  \n",
      "208269              38.0  \n",
      "208503              46.0  \n",
      "209492              41.0  \n",
      "209504              33.0  \n",
      "209771              44.0  \n",
      "\n",
      "[1600 rows x 19 columns]\n"
     ]
    }
   ],
   "source": [
    "# Take a look at Brooklyn pizza restaurants in inspection data\n",
    "print(pizza_brooklyn_subset)"
   ]
  },
  {
   "cell_type": "code",
   "execution_count": 10,
   "id": "3c1858e0",
   "metadata": {},
   "outputs": [],
   "source": [
    "# Making the names of the restaurants in both data sets compatable for the merge \n",
    "column_name = 'name'\n",
    "# Matching up the names for both datasets\n",
    "ydf['name'] = ydf['name'].apply(lambda x: str(x).upper())"
   ]
  },
  {
   "cell_type": "code",
   "execution_count": 11,
   "id": "fbeeba80",
   "metadata": {
    "scrolled": true
   },
   "outputs": [
    {
     "name": "stdout",
     "output_type": "stream",
     "text": [
      "\n",
      "Merged DataFrame\n",
      "        CAMIS                          DBA      BORO BUILDING  \\\n",
      "0    50004166            UNION PIZZA WORKS  Brooklyn      423   \n",
      "1    50004166            UNION PIZZA WORKS  Brooklyn      423   \n",
      "2    41672156           WILLIAMSBURG PIZZA  Brooklyn      265   \n",
      "3    41672156           WILLIAMSBURG PIZZA  Brooklyn      265   \n",
      "4    50114346           WILLIAMSBURG PIZZA  Brooklyn      259   \n",
      "..        ...                          ...       ...      ...   \n",
      "514  40745618                 MIKE'S PIZZA  Brooklyn      905   \n",
      "515  40745618                 MIKE'S PIZZA  Brooklyn      905   \n",
      "516  50088788  L'ARTE DELLA PIZZA BROOKLYN  Brooklyn      172   \n",
      "517  50088788  L'ARTE DELLA PIZZA BROOKLYN  Brooklyn      172   \n",
      "518  50000967                      WHEATED  Brooklyn      905   \n",
      "\n",
      "              STREET  ZIPCODE CUISINE DESCRIPTION INSPECTION DATE  \\\n",
      "0    TROUTMAN STREET  11237.0               Pizza      10/25/2022   \n",
      "1    TROUTMAN STREET  11237.0               Pizza      10/25/2022   \n",
      "2       UNION AVENUE  11211.0               Pizza      11/02/2022   \n",
      "3       UNION AVENUE  11211.0               Pizza      11/02/2022   \n",
      "4     WYCKOFF AVENUE  11237.0               Pizza      07/10/2023   \n",
      "..               ...      ...                 ...             ...   \n",
      "514    MYRTLE AVENUE  11206.0               Pizza      09/01/2022   \n",
      "515    MYRTLE AVENUE  11206.0               Pizza      09/01/2022   \n",
      "516         5 AVENUE  11217.0               Pizza      11/18/2022   \n",
      "517         5 AVENUE  11217.0               Pizza      11/18/2022   \n",
      "518    CHURCH AVENUE  11218.0               Pizza      02/23/2023   \n",
      "\n",
      "                                              ACTION VIOLATION CODE  ...  \\\n",
      "0    Violations were cited in the following area(s).            08A  ...   \n",
      "1    Violations were cited in the following area(s).            04N  ...   \n",
      "2    Violations were cited in the following area(s).            06C  ...   \n",
      "3    Violations were cited in the following area(s).            06C  ...   \n",
      "4    Violations were cited in the following area(s).            10F  ...   \n",
      "..                                               ...            ...  ...   \n",
      "514  Violations were cited in the following area(s).            08A  ...   \n",
      "515  Violations were cited in the following area(s).            08A  ...   \n",
      "516  Violations were cited in the following area(s).            02B  ...   \n",
      "517  Violations were cited in the following area(s).            06C  ...   \n",
      "518  Violations were cited in the following area(s).            06B  ...   \n",
      "\n",
      "                            name  \\\n",
      "0              UNION PIZZA WORKS   \n",
      "1              UNION PIZZA WORKS   \n",
      "2             WILLIAMSBURG PIZZA   \n",
      "3             WILLIAMSBURG PIZZA   \n",
      "4             WILLIAMSBURG PIZZA   \n",
      "..                           ...   \n",
      "514                 MIKE'S PIZZA   \n",
      "515                 MIKE'S PIZZA   \n",
      "516  L'ARTE DELLA PIZZA BROOKLYN   \n",
      "517  L'ARTE DELLA PIZZA BROOKLYN   \n",
      "518                      WHEATED   \n",
      "\n",
      "                                             image_url  \\\n",
      "0    https://s3-media1.fl.yelpcdn.com/bphoto/SNLXLQ...   \n",
      "1    https://s3-media1.fl.yelpcdn.com/bphoto/SNLXLQ...   \n",
      "2    https://s3-media4.fl.yelpcdn.com/bphoto/WsjRUp...   \n",
      "3    https://s3-media3.fl.yelpcdn.com/bphoto/AeirIq...   \n",
      "4    https://s3-media4.fl.yelpcdn.com/bphoto/WsjRUp...   \n",
      "..                                                 ...   \n",
      "514  https://s3-media2.fl.yelpcdn.com/bphoto/VOz4Uf...   \n",
      "515  https://s3-media3.fl.yelpcdn.com/bphoto/UyFGfF...   \n",
      "516  https://s3-media3.fl.yelpcdn.com/bphoto/0HWxlI...   \n",
      "517  https://s3-media3.fl.yelpcdn.com/bphoto/0HWxlI...   \n",
      "518  https://s3-media1.fl.yelpcdn.com/bphoto/nGlPNp...   \n",
      "\n",
      "                                                   url review_count  \\\n",
      "0    https://www.yelp.com/biz/union-pizza-works-bro...          297   \n",
      "1    https://www.yelp.com/biz/union-pizza-works-bro...          297   \n",
      "2    https://www.yelp.com/biz/williamsburg-pizza-br...          367   \n",
      "3    https://www.yelp.com/biz/williamsburg-pizza-ne...          284   \n",
      "4    https://www.yelp.com/biz/williamsburg-pizza-br...          367   \n",
      "..                                                 ...          ...   \n",
      "514  https://www.yelp.com/biz/mikes-pizza-long-isla...          150   \n",
      "515  https://www.yelp.com/biz/mikes-pizza-brooklyn?...           87   \n",
      "516  https://www.yelp.com/biz/l-arte-della-pizza-br...           69   \n",
      "517  https://www.yelp.com/biz/l-arte-della-pizza-br...           69   \n",
      "518  https://www.yelp.com/biz/wheated-brooklyn?adju...          398   \n",
      "\n",
      "                                            categories rating  \\\n",
      "0    [{'alias': 'italian', 'title': 'Italian'}, {'a...    4.0   \n",
      "1    [{'alias': 'italian', 'title': 'Italian'}, {'a...    4.0   \n",
      "2               [{'alias': 'pizza', 'title': 'Pizza'}]    3.0   \n",
      "3               [{'alias': 'pizza', 'title': 'Pizza'}]    4.0   \n",
      "4               [{'alias': 'pizza', 'title': 'Pizza'}]    3.0   \n",
      "..                                                 ...    ...   \n",
      "514  [{'alias': 'pizza', 'title': 'Pizza'}, {'alias...    4.0   \n",
      "515             [{'alias': 'pizza', 'title': 'Pizza'}]    3.5   \n",
      "516  [{'alias': 'pizza', 'title': 'Pizza'}, {'alias...    4.0   \n",
      "517  [{'alias': 'pizza', 'title': 'Pizza'}, {'alias...    4.0   \n",
      "518  [{'alias': 'pizza', 'title': 'Pizza'}, {'alias...    4.5   \n",
      "\n",
      "                                           coordinates  \\\n",
      "0    {'latitude': 40.7073067, 'longitude': -73.922154}   \n",
      "1    {'latitude': 40.7073067, 'longitude': -73.922154}   \n",
      "2    {'latitude': 40.7078768, 'longitude': -73.9507...   \n",
      "3       {'latitude': 40.71822, 'longitude': -73.99123}   \n",
      "4    {'latitude': 40.7078768, 'longitude': -73.9507...   \n",
      "..                                                 ...   \n",
      "514    {'latitude': 40.75214, 'longitude': -73.934339}   \n",
      "515  {'latitude': 40.655368, 'longitude': -73.9565781}   \n",
      "516   {'latitude': 40.677655, 'longitude': -73.979979}   \n",
      "517   {'latitude': 40.677655, 'longitude': -73.979979}   \n",
      "518  {'latitude': 40.6465968960541, 'longitude': -7...   \n",
      "\n",
      "               transactions  \\\n",
      "0    ['pickup', 'delivery']   \n",
      "1    ['pickup', 'delivery']   \n",
      "2    ['delivery', 'pickup']   \n",
      "3    ['delivery', 'pickup']   \n",
      "4    ['delivery', 'pickup']   \n",
      "..                      ...   \n",
      "514            ['delivery']   \n",
      "515  ['pickup', 'delivery']   \n",
      "516  ['delivery', 'pickup']   \n",
      "517  ['delivery', 'pickup']   \n",
      "518            ['delivery']   \n",
      "\n",
      "                                              location _merge  \n",
      "0    {'address1': '423 Troutman St', 'address2': ''...   both  \n",
      "1    {'address1': '423 Troutman St', 'address2': ''...   both  \n",
      "2    {'address1': '265 Union Ave', 'address2': '', ...   both  \n",
      "3    {'address1': '277 Broome St', 'address2': '', ...   both  \n",
      "4    {'address1': '265 Union Ave', 'address2': '', ...   both  \n",
      "..                                                 ...    ...  \n",
      "514  {'address1': '39-37 30th St', 'address2': '', ...   both  \n",
      "515  {'address1': '2026 Bedford Ave', 'address2': '...   both  \n",
      "516  {'address1': '172 5th Ave', 'address2': '', 'a...   both  \n",
      "517  {'address1': '172 5th Ave', 'address2': '', 'a...   both  \n",
      "518  {'address1': '905 Church Ave', 'address2': '',...   both  \n",
      "\n",
      "[519 rows x 30 columns]\n"
     ]
    }
   ],
   "source": [
    "# Merging the two data sets on the names of the resaurants \n",
    "mdf = pd.merge(pizza_brooklyn_subset, ydf,left_on='DBA', right_on='name', how='inner', indicator=True)\n",
    "\n",
    "# Dropping any Duplicate rows \n",
    "mdf.drop_duplicates (inplace=True)\n",
    "\n",
    "#Display the merged dataframe\n",
    "print (\"\\nMerged DataFrame\")\n",
    "print(mdf)"
   ]
  },
  {
   "cell_type": "code",
   "execution_count": 12,
   "id": "d547dffd",
   "metadata": {
    "scrolled": false
   },
   "outputs": [
    {
     "name": "stdout",
     "output_type": "stream",
     "text": [
      "<class 'pandas.core.frame.DataFrame'>\n",
      "RangeIndex: 519 entries, 0 to 518\n",
      "Data columns (total 30 columns):\n",
      " #   Column                 Non-Null Count  Dtype   \n",
      "---  ------                 --------------  -----   \n",
      " 0   CAMIS                  519 non-null    int64   \n",
      " 1   DBA                    519 non-null    object  \n",
      " 2   BORO                   519 non-null    object  \n",
      " 3   BUILDING               519 non-null    object  \n",
      " 4   STREET                 519 non-null    object  \n",
      " 5   ZIPCODE                515 non-null    float64 \n",
      " 6   CUISINE DESCRIPTION    519 non-null    object  \n",
      " 7   INSPECTION DATE        519 non-null    object  \n",
      " 8   ACTION                 519 non-null    object  \n",
      " 9   VIOLATION CODE         517 non-null    object  \n",
      " 10  VIOLATION DESCRIPTION  517 non-null    object  \n",
      " 11  CRITICAL FLAG          519 non-null    object  \n",
      " 12  SCORE                  519 non-null    float64 \n",
      " 13  GRADE                  519 non-null    object  \n",
      " 14  GRADE DATE             512 non-null    object  \n",
      " 15  INSPECTION TYPE        519 non-null    object  \n",
      " 16  Latitude               519 non-null    float64 \n",
      " 17  Longitude              519 non-null    float64 \n",
      " 18  Council District       515 non-null    float64 \n",
      " 19  alias                  519 non-null    object  \n",
      " 20  name                   519 non-null    object  \n",
      " 21  image_url              519 non-null    object  \n",
      " 22  url                    519 non-null    object  \n",
      " 23  review_count           519 non-null    int64   \n",
      " 24  categories             519 non-null    object  \n",
      " 25  rating                 519 non-null    float64 \n",
      " 26  coordinates            519 non-null    object  \n",
      " 27  transactions           519 non-null    object  \n",
      " 28  location               519 non-null    object  \n",
      " 29  _merge                 519 non-null    category\n",
      "dtypes: category(1), float64(6), int64(2), object(21)\n",
      "memory usage: 118.4+ KB\n"
     ]
    }
   ],
   "source": [
    "mdf.info()"
   ]
  },
  {
   "cell_type": "code",
   "execution_count": 13,
   "id": "bb73fc64",
   "metadata": {},
   "outputs": [],
   "source": [
    "# Dropping irelevant column\n",
    "mdf.drop(['_merge'], axis=1, inplace=True)"
   ]
  },
  {
   "cell_type": "code",
   "execution_count": 14,
   "id": "a1a7caca",
   "metadata": {
    "scrolled": false
   },
   "outputs": [
    {
     "data": {
      "text/html": [
       "<div>\n",
       "<style scoped>\n",
       "    .dataframe tbody tr th:only-of-type {\n",
       "        vertical-align: middle;\n",
       "    }\n",
       "\n",
       "    .dataframe tbody tr th {\n",
       "        vertical-align: top;\n",
       "    }\n",
       "\n",
       "    .dataframe thead th {\n",
       "        text-align: right;\n",
       "    }\n",
       "</style>\n",
       "<table border=\"1\" class=\"dataframe\">\n",
       "  <thead>\n",
       "    <tr style=\"text-align: right;\">\n",
       "      <th></th>\n",
       "      <th>CAMIS</th>\n",
       "      <th>DBA</th>\n",
       "      <th>BORO</th>\n",
       "      <th>BUILDING</th>\n",
       "      <th>STREET</th>\n",
       "      <th>ZIPCODE</th>\n",
       "      <th>CUISINE DESCRIPTION</th>\n",
       "      <th>INSPECTION DATE</th>\n",
       "      <th>ACTION</th>\n",
       "      <th>VIOLATION CODE</th>\n",
       "      <th>...</th>\n",
       "      <th>alias</th>\n",
       "      <th>name</th>\n",
       "      <th>image_url</th>\n",
       "      <th>url</th>\n",
       "      <th>review_count</th>\n",
       "      <th>categories</th>\n",
       "      <th>rating</th>\n",
       "      <th>coordinates</th>\n",
       "      <th>transactions</th>\n",
       "      <th>location</th>\n",
       "    </tr>\n",
       "  </thead>\n",
       "  <tbody>\n",
       "    <tr>\n",
       "      <th>0</th>\n",
       "      <td>50004166</td>\n",
       "      <td>UNION PIZZA WORKS</td>\n",
       "      <td>Brooklyn</td>\n",
       "      <td>423</td>\n",
       "      <td>TROUTMAN STREET</td>\n",
       "      <td>11237.0</td>\n",
       "      <td>Pizza</td>\n",
       "      <td>10/25/2022</td>\n",
       "      <td>Violations were cited in the following area(s).</td>\n",
       "      <td>08A</td>\n",
       "      <td>...</td>\n",
       "      <td>union-pizza-works-brooklyn</td>\n",
       "      <td>UNION PIZZA WORKS</td>\n",
       "      <td>https://s3-media1.fl.yelpcdn.com/bphoto/SNLXLQ...</td>\n",
       "      <td>https://www.yelp.com/biz/union-pizza-works-bro...</td>\n",
       "      <td>297</td>\n",
       "      <td>[{'alias': 'italian', 'title': 'Italian'}, {'a...</td>\n",
       "      <td>4.0</td>\n",
       "      <td>{'latitude': 40.7073067, 'longitude': -73.922154}</td>\n",
       "      <td>['pickup', 'delivery']</td>\n",
       "      <td>{'address1': '423 Troutman St', 'address2': ''...</td>\n",
       "    </tr>\n",
       "    <tr>\n",
       "      <th>1</th>\n",
       "      <td>50004166</td>\n",
       "      <td>UNION PIZZA WORKS</td>\n",
       "      <td>Brooklyn</td>\n",
       "      <td>423</td>\n",
       "      <td>TROUTMAN STREET</td>\n",
       "      <td>11237.0</td>\n",
       "      <td>Pizza</td>\n",
       "      <td>10/25/2022</td>\n",
       "      <td>Violations were cited in the following area(s).</td>\n",
       "      <td>04N</td>\n",
       "      <td>...</td>\n",
       "      <td>union-pizza-works-brooklyn</td>\n",
       "      <td>UNION PIZZA WORKS</td>\n",
       "      <td>https://s3-media1.fl.yelpcdn.com/bphoto/SNLXLQ...</td>\n",
       "      <td>https://www.yelp.com/biz/union-pizza-works-bro...</td>\n",
       "      <td>297</td>\n",
       "      <td>[{'alias': 'italian', 'title': 'Italian'}, {'a...</td>\n",
       "      <td>4.0</td>\n",
       "      <td>{'latitude': 40.7073067, 'longitude': -73.922154}</td>\n",
       "      <td>['pickup', 'delivery']</td>\n",
       "      <td>{'address1': '423 Troutman St', 'address2': ''...</td>\n",
       "    </tr>\n",
       "    <tr>\n",
       "      <th>2</th>\n",
       "      <td>41672156</td>\n",
       "      <td>WILLIAMSBURG PIZZA</td>\n",
       "      <td>Brooklyn</td>\n",
       "      <td>265</td>\n",
       "      <td>UNION AVENUE</td>\n",
       "      <td>11211.0</td>\n",
       "      <td>Pizza</td>\n",
       "      <td>11/02/2022</td>\n",
       "      <td>Violations were cited in the following area(s).</td>\n",
       "      <td>06C</td>\n",
       "      <td>...</td>\n",
       "      <td>williamsburg-pizza-brooklyn-6</td>\n",
       "      <td>WILLIAMSBURG PIZZA</td>\n",
       "      <td>https://s3-media4.fl.yelpcdn.com/bphoto/WsjRUp...</td>\n",
       "      <td>https://www.yelp.com/biz/williamsburg-pizza-br...</td>\n",
       "      <td>367</td>\n",
       "      <td>[{'alias': 'pizza', 'title': 'Pizza'}]</td>\n",
       "      <td>3.0</td>\n",
       "      <td>{'latitude': 40.7078768, 'longitude': -73.9507...</td>\n",
       "      <td>['delivery', 'pickup']</td>\n",
       "      <td>{'address1': '265 Union Ave', 'address2': '', ...</td>\n",
       "    </tr>\n",
       "    <tr>\n",
       "      <th>3</th>\n",
       "      <td>41672156</td>\n",
       "      <td>WILLIAMSBURG PIZZA</td>\n",
       "      <td>Brooklyn</td>\n",
       "      <td>265</td>\n",
       "      <td>UNION AVENUE</td>\n",
       "      <td>11211.0</td>\n",
       "      <td>Pizza</td>\n",
       "      <td>11/02/2022</td>\n",
       "      <td>Violations were cited in the following area(s).</td>\n",
       "      <td>06C</td>\n",
       "      <td>...</td>\n",
       "      <td>williamsburg-pizza-new-york-7</td>\n",
       "      <td>WILLIAMSBURG PIZZA</td>\n",
       "      <td>https://s3-media3.fl.yelpcdn.com/bphoto/AeirIq...</td>\n",
       "      <td>https://www.yelp.com/biz/williamsburg-pizza-ne...</td>\n",
       "      <td>284</td>\n",
       "      <td>[{'alias': 'pizza', 'title': 'Pizza'}]</td>\n",
       "      <td>4.0</td>\n",
       "      <td>{'latitude': 40.71822, 'longitude': -73.99123}</td>\n",
       "      <td>['delivery', 'pickup']</td>\n",
       "      <td>{'address1': '277 Broome St', 'address2': '', ...</td>\n",
       "    </tr>\n",
       "    <tr>\n",
       "      <th>4</th>\n",
       "      <td>50114346</td>\n",
       "      <td>WILLIAMSBURG PIZZA</td>\n",
       "      <td>Brooklyn</td>\n",
       "      <td>259</td>\n",
       "      <td>WYCKOFF AVENUE</td>\n",
       "      <td>11237.0</td>\n",
       "      <td>Pizza</td>\n",
       "      <td>07/10/2023</td>\n",
       "      <td>Violations were cited in the following area(s).</td>\n",
       "      <td>10F</td>\n",
       "      <td>...</td>\n",
       "      <td>williamsburg-pizza-brooklyn-6</td>\n",
       "      <td>WILLIAMSBURG PIZZA</td>\n",
       "      <td>https://s3-media4.fl.yelpcdn.com/bphoto/WsjRUp...</td>\n",
       "      <td>https://www.yelp.com/biz/williamsburg-pizza-br...</td>\n",
       "      <td>367</td>\n",
       "      <td>[{'alias': 'pizza', 'title': 'Pizza'}]</td>\n",
       "      <td>3.0</td>\n",
       "      <td>{'latitude': 40.7078768, 'longitude': -73.9507...</td>\n",
       "      <td>['delivery', 'pickup']</td>\n",
       "      <td>{'address1': '265 Union Ave', 'address2': '', ...</td>\n",
       "    </tr>\n",
       "  </tbody>\n",
       "</table>\n",
       "<p>5 rows × 29 columns</p>\n",
       "</div>"
      ],
      "text/plain": [
       "      CAMIS                 DBA      BORO BUILDING           STREET  ZIPCODE  \\\n",
       "0  50004166   UNION PIZZA WORKS  Brooklyn      423  TROUTMAN STREET  11237.0   \n",
       "1  50004166   UNION PIZZA WORKS  Brooklyn      423  TROUTMAN STREET  11237.0   \n",
       "2  41672156  WILLIAMSBURG PIZZA  Brooklyn      265     UNION AVENUE  11211.0   \n",
       "3  41672156  WILLIAMSBURG PIZZA  Brooklyn      265     UNION AVENUE  11211.0   \n",
       "4  50114346  WILLIAMSBURG PIZZA  Brooklyn      259   WYCKOFF AVENUE  11237.0   \n",
       "\n",
       "  CUISINE DESCRIPTION INSPECTION DATE  \\\n",
       "0               Pizza      10/25/2022   \n",
       "1               Pizza      10/25/2022   \n",
       "2               Pizza      11/02/2022   \n",
       "3               Pizza      11/02/2022   \n",
       "4               Pizza      07/10/2023   \n",
       "\n",
       "                                            ACTION VIOLATION CODE  ...  \\\n",
       "0  Violations were cited in the following area(s).            08A  ...   \n",
       "1  Violations were cited in the following area(s).            04N  ...   \n",
       "2  Violations were cited in the following area(s).            06C  ...   \n",
       "3  Violations were cited in the following area(s).            06C  ...   \n",
       "4  Violations were cited in the following area(s).            10F  ...   \n",
       "\n",
       "                           alias                name  \\\n",
       "0     union-pizza-works-brooklyn   UNION PIZZA WORKS   \n",
       "1     union-pizza-works-brooklyn   UNION PIZZA WORKS   \n",
       "2  williamsburg-pizza-brooklyn-6  WILLIAMSBURG PIZZA   \n",
       "3  williamsburg-pizza-new-york-7  WILLIAMSBURG PIZZA   \n",
       "4  williamsburg-pizza-brooklyn-6  WILLIAMSBURG PIZZA   \n",
       "\n",
       "                                           image_url  \\\n",
       "0  https://s3-media1.fl.yelpcdn.com/bphoto/SNLXLQ...   \n",
       "1  https://s3-media1.fl.yelpcdn.com/bphoto/SNLXLQ...   \n",
       "2  https://s3-media4.fl.yelpcdn.com/bphoto/WsjRUp...   \n",
       "3  https://s3-media3.fl.yelpcdn.com/bphoto/AeirIq...   \n",
       "4  https://s3-media4.fl.yelpcdn.com/bphoto/WsjRUp...   \n",
       "\n",
       "                                                 url review_count  \\\n",
       "0  https://www.yelp.com/biz/union-pizza-works-bro...          297   \n",
       "1  https://www.yelp.com/biz/union-pizza-works-bro...          297   \n",
       "2  https://www.yelp.com/biz/williamsburg-pizza-br...          367   \n",
       "3  https://www.yelp.com/biz/williamsburg-pizza-ne...          284   \n",
       "4  https://www.yelp.com/biz/williamsburg-pizza-br...          367   \n",
       "\n",
       "                                          categories  rating  \\\n",
       "0  [{'alias': 'italian', 'title': 'Italian'}, {'a...     4.0   \n",
       "1  [{'alias': 'italian', 'title': 'Italian'}, {'a...     4.0   \n",
       "2             [{'alias': 'pizza', 'title': 'Pizza'}]     3.0   \n",
       "3             [{'alias': 'pizza', 'title': 'Pizza'}]     4.0   \n",
       "4             [{'alias': 'pizza', 'title': 'Pizza'}]     3.0   \n",
       "\n",
       "                                         coordinates            transactions  \\\n",
       "0  {'latitude': 40.7073067, 'longitude': -73.922154}  ['pickup', 'delivery']   \n",
       "1  {'latitude': 40.7073067, 'longitude': -73.922154}  ['pickup', 'delivery']   \n",
       "2  {'latitude': 40.7078768, 'longitude': -73.9507...  ['delivery', 'pickup']   \n",
       "3     {'latitude': 40.71822, 'longitude': -73.99123}  ['delivery', 'pickup']   \n",
       "4  {'latitude': 40.7078768, 'longitude': -73.9507...  ['delivery', 'pickup']   \n",
       "\n",
       "                                            location  \n",
       "0  {'address1': '423 Troutman St', 'address2': ''...  \n",
       "1  {'address1': '423 Troutman St', 'address2': ''...  \n",
       "2  {'address1': '265 Union Ave', 'address2': '', ...  \n",
       "3  {'address1': '277 Broome St', 'address2': '', ...  \n",
       "4  {'address1': '265 Union Ave', 'address2': '', ...  \n",
       "\n",
       "[5 rows x 29 columns]"
      ]
     },
     "execution_count": 14,
     "metadata": {},
     "output_type": "execute_result"
    }
   ],
   "source": [
    "mdf.head()"
   ]
  },
  {
   "cell_type": "markdown",
   "id": "d24dad2d",
   "metadata": {},
   "source": [
    "## **Hypothesis Test 1**"
   ]
  },
  {
   "cell_type": "markdown",
   "id": "a8ca31d2",
   "metadata": {},
   "source": [
    "**Try to find a correlation between scores on inspections and the ratings on Yelp**\n",
    "\n",
    "\n",
    " - The null hypothesis for this question would be that the restaurant inspection score and grade does not significantly affect the rating reviews on Yelp for pizza restaurants in Brooklyn NY.\n",
    " \n",
    "  - The alternative hypothesis for this question would be that the restaurant inspection score and grade does affect the rating reviews on Yelp for the pizza restaurants in Brooklyn NY. "
   ]
  },
  {
   "cell_type": "code",
   "execution_count": 15,
   "id": "23661a25",
   "metadata": {},
   "outputs": [
    {
     "name": "stdout",
     "output_type": "stream",
     "text": [
      "           SCORE    rating\n",
      "SCORE   1.000000  0.154637\n",
      "rating  0.154637  1.000000\n"
     ]
    }
   ],
   "source": [
    "# Select the columns of interest\n",
    "selected_columns = ['SCORE', 'rating']\n",
    "subset_df = mdf[selected_columns]\n",
    "\n",
    "# Calculate the correlation matrix\n",
    "correlation_matrix = subset_df.corr()\n",
    "\n",
    "# Print or display the correlation matrix\n",
    "print(correlation_matrix)"
   ]
  },
  {
   "cell_type": "code",
   "execution_count": 16,
   "id": "88cea578",
   "metadata": {},
   "outputs": [
    {
     "name": "stdout",
     "output_type": "stream",
     "text": [
      "Correlation: 0.15\n",
      "P-value: 0.0004\n",
      "The correlation is statistically significant.\n"
     ]
    }
   ],
   "source": [
    "# Perform Pearson correlation test \n",
    "correlation, p_value = pearsonr(mdf['SCORE'], mdf['rating'])\n",
    "\n",
    "# Print results\n",
    "print(f'Correlation: {correlation:.2f}')\n",
    "print(f'P-value: {p_value:.4f}')\n",
    "\n",
    "# Check for significance based on the p-value\n",
    "if p_value < 0.05:\n",
    "    print('The correlation is statistically significant.')\n",
    "else:\n",
    "    print('There is no significant correlation.')"
   ]
  },
  {
   "cell_type": "code",
   "execution_count": 18,
   "id": "2fe43550",
   "metadata": {},
   "outputs": [
    {
     "data": {
      "image/png": "[encoded data removed]",
      "text/plain": [
       "<Figure size 800x600 with 2 Axes>"
      ]
     },
     "metadata": {},
     "output_type": "display_data"
    }
   ],
   "source": [
    "# Select the columns of interest\n",
    "selected_columns = ['SCORE', 'rating']\n",
    "subset_df = mdf[selected_columns]\n",
    "\n",
    "# Convert 'rating' column to numeric if it's not already\n",
    "subset_df['rating'] = pd.to_numeric(subset_df['rating'], errors='coerce')\n",
    "\n",
    "# Calculate the correlation matrix\n",
    "correlation_matrix = subset_df.corr()\n",
    "\n",
    "# Create a heatmap using seaborn\n",
    "plt.figure(figsize=(8, 6))\n",
    "heatmap = sns.heatmap(correlation_matrix, annot=True, fmt=\".2f\", cmap='coolwarm', vmin=-1, vmax=1)\n",
    "\n",
    "# Display the plot\n",
    "plt.title('Correlation Matrix')\n",
    "plt.show()"
   ]
  },
  {
   "cell_type": "code",
   "execution_count": 19,
   "id": "f7bd5a20",
   "metadata": {},
   "outputs": [
    {
     "ename": "ValueError",
     "evalue": "could not convert string to float: 'UNION PIZZA WORKS'",
     "output_type": "error",
     "traceback": [
      "\u001b[1;31m---------------------------------------------------------------------------\u001b[0m",
      "\u001b[1;31mValueError\u001b[0m                                Traceback (most recent call last)",
      "Cell \u001b[1;32mIn[19], line 2\u001b[0m\n\u001b[0;32m      1\u001b[0m \u001b[38;5;66;03m# Your correlation matrix\u001b[39;00m\n\u001b[1;32m----> 2\u001b[0m correlation_matrix \u001b[38;5;241m=\u001b[39m mdf\u001b[38;5;241m.\u001b[39mcorr()\n\u001b[0;32m      4\u001b[0m \u001b[38;5;66;03m# Create a heatmap\u001b[39;00m\n\u001b[0;32m      5\u001b[0m sns\u001b[38;5;241m.\u001b[39mheatmap(correlation_matrix, annot\u001b[38;5;241m=\u001b[39m\u001b[38;5;28;01mTrue\u001b[39;00m, cmap\u001b[38;5;241m=\u001b[39m\u001b[38;5;124m'\u001b[39m\u001b[38;5;124mcoolwarm\u001b[39m\u001b[38;5;124m'\u001b[39m, fmt\u001b[38;5;241m=\u001b[39m\u001b[38;5;124m'\u001b[39m\u001b[38;5;124m.2f\u001b[39m\u001b[38;5;124m'\u001b[39m, linewidths\u001b[38;5;241m=\u001b[39m\u001b[38;5;241m.5\u001b[39m)\n",
      "File \u001b[1;32m~\\anaconda3\\Lib\\site-packages\\pandas\\core\\frame.py:10707\u001b[0m, in \u001b[0;36mDataFrame.corr\u001b[1;34m(self, method, min_periods, numeric_only)\u001b[0m\n\u001b[0;32m  10705\u001b[0m cols \u001b[38;5;241m=\u001b[39m data\u001b[38;5;241m.\u001b[39mcolumns\n\u001b[0;32m  10706\u001b[0m idx \u001b[38;5;241m=\u001b[39m cols\u001b[38;5;241m.\u001b[39mcopy()\n\u001b[1;32m> 10707\u001b[0m mat \u001b[38;5;241m=\u001b[39m data\u001b[38;5;241m.\u001b[39mto_numpy(dtype\u001b[38;5;241m=\u001b[39m\u001b[38;5;28mfloat\u001b[39m, na_value\u001b[38;5;241m=\u001b[39mnp\u001b[38;5;241m.\u001b[39mnan, copy\u001b[38;5;241m=\u001b[39m\u001b[38;5;28;01mFalse\u001b[39;00m)\n\u001b[0;32m  10709\u001b[0m \u001b[38;5;28;01mif\u001b[39;00m method \u001b[38;5;241m==\u001b[39m \u001b[38;5;124m\"\u001b[39m\u001b[38;5;124mpearson\u001b[39m\u001b[38;5;124m\"\u001b[39m:\n\u001b[0;32m  10710\u001b[0m     correl \u001b[38;5;241m=\u001b[39m libalgos\u001b[38;5;241m.\u001b[39mnancorr(mat, minp\u001b[38;5;241m=\u001b[39mmin_periods)\n",
      "File \u001b[1;32m~\\anaconda3\\Lib\\site-packages\\pandas\\core\\frame.py:1892\u001b[0m, in \u001b[0;36mDataFrame.to_numpy\u001b[1;34m(self, dtype, copy, na_value)\u001b[0m\n\u001b[0;32m   1890\u001b[0m \u001b[38;5;28;01mif\u001b[39;00m dtype \u001b[38;5;129;01mis\u001b[39;00m \u001b[38;5;129;01mnot\u001b[39;00m \u001b[38;5;28;01mNone\u001b[39;00m:\n\u001b[0;32m   1891\u001b[0m     dtype \u001b[38;5;241m=\u001b[39m np\u001b[38;5;241m.\u001b[39mdtype(dtype)\n\u001b[1;32m-> 1892\u001b[0m result \u001b[38;5;241m=\u001b[39m \u001b[38;5;28mself\u001b[39m\u001b[38;5;241m.\u001b[39m_mgr\u001b[38;5;241m.\u001b[39mas_array(dtype\u001b[38;5;241m=\u001b[39mdtype, copy\u001b[38;5;241m=\u001b[39mcopy, na_value\u001b[38;5;241m=\u001b[39mna_value)\n\u001b[0;32m   1893\u001b[0m \u001b[38;5;28;01mif\u001b[39;00m result\u001b[38;5;241m.\u001b[39mdtype \u001b[38;5;129;01mis\u001b[39;00m \u001b[38;5;129;01mnot\u001b[39;00m dtype:\n\u001b[0;32m   1894\u001b[0m     result \u001b[38;5;241m=\u001b[39m np\u001b[38;5;241m.\u001b[39marray(result, dtype\u001b[38;5;241m=\u001b[39mdtype, copy\u001b[38;5;241m=\u001b[39m\u001b[38;5;28;01mFalse\u001b[39;00m)\n",
      "File \u001b[1;32m~\\anaconda3\\Lib\\site-packages\\pandas\\core\\internals\\managers.py:1656\u001b[0m, in \u001b[0;36mBlockManager.as_array\u001b[1;34m(self, dtype, copy, na_value)\u001b[0m\n\u001b[0;32m   1654\u001b[0m         arr\u001b[38;5;241m.\u001b[39mflags\u001b[38;5;241m.\u001b[39mwriteable \u001b[38;5;241m=\u001b[39m \u001b[38;5;28;01mFalse\u001b[39;00m\n\u001b[0;32m   1655\u001b[0m \u001b[38;5;28;01melse\u001b[39;00m:\n\u001b[1;32m-> 1656\u001b[0m     arr \u001b[38;5;241m=\u001b[39m \u001b[38;5;28mself\u001b[39m\u001b[38;5;241m.\u001b[39m_interleave(dtype\u001b[38;5;241m=\u001b[39mdtype, na_value\u001b[38;5;241m=\u001b[39mna_value)\n\u001b[0;32m   1657\u001b[0m     \u001b[38;5;66;03m# The underlying data was copied within _interleave, so no need\u001b[39;00m\n\u001b[0;32m   1658\u001b[0m     \u001b[38;5;66;03m# to further copy if copy=True or setting na_value\u001b[39;00m\n\u001b[0;32m   1660\u001b[0m \u001b[38;5;28;01mif\u001b[39;00m na_value \u001b[38;5;129;01mis\u001b[39;00m lib\u001b[38;5;241m.\u001b[39mno_default:\n",
      "File \u001b[1;32m~\\anaconda3\\Lib\\site-packages\\pandas\\core\\internals\\managers.py:1715\u001b[0m, in \u001b[0;36mBlockManager._interleave\u001b[1;34m(self, dtype, na_value)\u001b[0m\n\u001b[0;32m   1713\u001b[0m     \u001b[38;5;28;01melse\u001b[39;00m:\n\u001b[0;32m   1714\u001b[0m         arr \u001b[38;5;241m=\u001b[39m blk\u001b[38;5;241m.\u001b[39mget_values(dtype)\n\u001b[1;32m-> 1715\u001b[0m     result[rl\u001b[38;5;241m.\u001b[39mindexer] \u001b[38;5;241m=\u001b[39m arr\n\u001b[0;32m   1716\u001b[0m     itemmask[rl\u001b[38;5;241m.\u001b[39mindexer] \u001b[38;5;241m=\u001b[39m \u001b[38;5;241m1\u001b[39m\n\u001b[0;32m   1718\u001b[0m \u001b[38;5;28;01mif\u001b[39;00m \u001b[38;5;129;01mnot\u001b[39;00m itemmask\u001b[38;5;241m.\u001b[39mall():\n",
      "\u001b[1;31mValueError\u001b[0m: could not convert string to float: 'UNION PIZZA WORKS'"
     ]
    }
   ],
   "source": [
    "# Your correlation matrix\n",
    "correlation_matrix = mdf.corr()\n",
    "\n",
    "# Create a heatmap\n",
    "sns.heatmap(correlation_matrix, annot=True, cmap='coolwarm', fmt='.2f', linewidths=.5)\n",
    "plt.title('Correlation Matrix')\n",
    "plt.show()"
   ]
  },
  {
   "cell_type": "code",
   "execution_count": 31,
   "id": "bab5600b",
   "metadata": {},
   "outputs": [
    {
     "data": {
      "image/png": "[encoded data removed]",
      "text/plain": [
       "<Figure size 640x480 with 2 Axes>"
      ]
     },
     "metadata": {},
     "output_type": "display_data"
    }
   ],
   "source": [
    "# Assuming 'restaurant_name' is a non-numeric column\n",
    "numeric_data = mdf.select_dtypes(include=['float64', 'int64'])\n",
    "\n",
    "correlation_matrix = numeric_data.corr()\n",
    "\n",
    "# Create a heatmap\n",
    "sns.heatmap(correlation_matrix, annot=True, cmap='coolwarm', fmt='.2f', linewidths=.5)\n",
    "plt.title('Correlation Matrix')\n",
    "plt.show()"
   ]
  },
  {
   "cell_type": "code",
   "execution_count": null,
   "id": "da2c7985",
   "metadata": {},
   "outputs": [],
   "source": []
  }
 ],
 "metadata": {
  "kernelspec": {
   "display_name": "dojo-env",
   "language": "python",
   "name": "dojo-env"
  },
  "language_info": {
   "codemirror_mode": {
    "name": "ipython",
    "version": 3
   },
   "file_extension": ".py",
   "mimetype": "text/x-python",
   "name": "python",
   "nbconvert_exporter": "python",
   "pygments_lexer": "ipython3",
   "version": "3.11.5"
  },
  "toc": {
   "base_numbering": 1,
   "nav_menu": {},
   "number_sections": false,
   "sideBar": true,
   "skip_h1_title": false,
   "title_cell": "Table of Contents",
   "title_sidebar": "Contents",
   "toc_cell": false,
   "toc_position": {
    "height": "calc(100% - 180px)",
    "left": "10px",
    "top": "150px",
    "width": "231.339px"
   },
   "toc_section_display": true,
   "toc_window_display": true
  }
 },
 "nbformat": 4,
 "nbformat_minor": 5
}
