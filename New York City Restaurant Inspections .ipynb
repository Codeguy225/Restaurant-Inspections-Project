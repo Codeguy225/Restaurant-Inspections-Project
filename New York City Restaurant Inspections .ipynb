{
 "cells": [
  {
   "cell_type": "markdown",
   "id": "fb63ca02",
   "metadata": {},
   "source": [
    "# **Restaurant Inspections New York City**"
   ]
  },
  {
   "cell_type": "markdown",
   "id": "6a8bce71",
   "metadata": {},
   "source": [
    "## **Imports**"
   ]
  },
  {
   "cell_type": "code",
   "execution_count": 1,
   "id": "16abbb9d",
   "metadata": {
    "scrolled": true
   },
   "outputs": [],
   "source": [
    "import numpy as np\n",
    "import pandas as pd\n",
    "import seaborn as sns\n",
    "import matplotlib.pyplot as plt\n",
    "import plotly\n",
    "%matplotlib inline\n",
    "\n",
    "#Sklearn preprocessing\n",
    "from sklearn import preprocessing,set_config\n",
    "from sklearn.preprocessing import OrdinalEncoder, OneHotEncoder,StandardScaler,LabelEncoder\n",
    "#Scipy\n",
    "from scipy import stats\n",
    "from scipy.stats import norm\n",
    "\n",
    "#Sklearn Models\n",
    "from sklearn.model_selection import train_test_split, GridSearchCV\n",
    "from sklearn.impute import SimpleImputer\n",
    "from sklearn import preprocessing, set_config\n",
    "from sklearn.preprocessing import StandardScaler\n",
    "from sklearn.pipeline import Pipeline, make_pipeline\n",
    "from sklearn.impute import SimpleImputer\n",
    "from sklearn.compose import ColumnTransformer,make_column_selector,make_column_transformer\n",
    "from sklearn.linear_model import LogisticRegression\n",
    "from sklearn.decomposition import PCA\n",
    "\n",
    "\n",
    "# Warnings \n",
    "import warnings \n",
    "warnings.filterwarnings(\"ignore\")"
   ]
  },
  {
   "cell_type": "markdown",
   "id": "7160808b",
   "metadata": {},
   "source": [
    "# **Load Data**"
   ]
  },
  {
   "cell_type": "code",
   "execution_count": 2,
   "id": "6a0d8143",
   "metadata": {},
   "outputs": [],
   "source": [
    "rd = pd.read_csv('https://data.cityofnewyork.us/api/views/43nn-pn8j/rows.csv?accessType=DOWNLOAD')"
   ]
  },
  {
   "cell_type": "markdown",
   "id": "c33998d0",
   "metadata": {},
   "source": [
    "# **Data Exploration**\n"
   ]
  },
  {
   "cell_type": "code",
   "execution_count": 3,
   "id": "ea259bdb",
   "metadata": {
    "scrolled": true
   },
   "outputs": [
    {
     "name": "stdout",
     "output_type": "stream",
     "text": [
      "<class 'pandas.core.frame.DataFrame'>\n",
      "RangeIndex: 211711 entries, 0 to 211710\n",
      "Data columns (total 27 columns):\n",
      " #   Column                 Non-Null Count   Dtype  \n",
      "---  ------                 --------------   -----  \n",
      " 0   CAMIS                  211711 non-null  int64  \n",
      " 1   DBA                    211024 non-null  object \n",
      " 2   BORO                   211711 non-null  object \n",
      " 3   BUILDING               211415 non-null  object \n",
      " 4   STREET                 211708 non-null  object \n",
      " 5   ZIPCODE                209022 non-null  float64\n",
      " 6   PHONE                  211709 non-null  object \n",
      " 7   CUISINE DESCRIPTION    209249 non-null  object \n",
      " 8   INSPECTION DATE        211711 non-null  object \n",
      " 9   ACTION                 209249 non-null  object \n",
      " 10  VIOLATION CODE         208120 non-null  object \n",
      " 11  VIOLATION DESCRIPTION  208120 non-null  object \n",
      " 12  CRITICAL FLAG          211711 non-null  object \n",
      " 13  SCORE                  201535 non-null  float64\n",
      " 14  GRADE                  103387 non-null  object \n",
      " 15  GRADE DATE             94613 non-null   object \n",
      " 16  RECORD DATE            211711 non-null  object \n",
      " 17  INSPECTION TYPE        209249 non-null  object \n",
      " 18  Latitude               211431 non-null  float64\n",
      " 19  Longitude              211431 non-null  float64\n",
      " 20  Community Board        208494 non-null  float64\n",
      " 21  Council District       208494 non-null  float64\n",
      " 22  Census Tract           208494 non-null  float64\n",
      " 23  BIN                    207478 non-null  float64\n",
      " 24  BBL                    211180 non-null  float64\n",
      " 25  NTA                    208494 non-null  object \n",
      " 26  Location Point1        0 non-null       float64\n",
      "dtypes: float64(10), int64(1), object(16)\n",
      "memory usage: 43.6+ MB\n"
     ]
    }
   ],
   "source": [
    "# Check to see if data loaded properly:\n",
    "rd.info()"
   ]
  },
  {
   "cell_type": "markdown",
   "id": "84b4d5b4",
   "metadata": {},
   "source": [
    "## **Drop Columns**"
   ]
  },
  {
   "cell_type": "code",
   "execution_count": 4,
   "id": "a53369e7",
   "metadata": {},
   "outputs": [],
   "source": [
    "# Dropping irrelevant of imcomplete columns\n",
    "rd.drop(['Location Point1', 'PHONE', 'BBL', 'BIN', 'NTA', 'Census Tract', 'Community Board', 'RECORD DATE'], axis=1, inplace=True)"
   ]
  },
  {
   "cell_type": "code",
   "execution_count": 5,
   "id": "5d379dca",
   "metadata": {
    "scrolled": true
   },
   "outputs": [
    {
     "data": {
      "text/html": [
       "<div>\n",
       "<style scoped>\n",
       "    .dataframe tbody tr th:only-of-type {\n",
       "        vertical-align: middle;\n",
       "    }\n",
       "\n",
       "    .dataframe tbody tr th {\n",
       "        vertical-align: top;\n",
       "    }\n",
       "\n",
       "    .dataframe thead th {\n",
       "        text-align: right;\n",
       "    }\n",
       "</style>\n",
       "<table border=\"1\" class=\"dataframe\">\n",
       "  <thead>\n",
       "    <tr style=\"text-align: right;\">\n",
       "      <th></th>\n",
       "      <th>CAMIS</th>\n",
       "      <th>DBA</th>\n",
       "      <th>BORO</th>\n",
       "      <th>BUILDING</th>\n",
       "      <th>STREET</th>\n",
       "      <th>ZIPCODE</th>\n",
       "      <th>CUISINE DESCRIPTION</th>\n",
       "      <th>INSPECTION DATE</th>\n",
       "      <th>ACTION</th>\n",
       "      <th>VIOLATION CODE</th>\n",
       "      <th>VIOLATION DESCRIPTION</th>\n",
       "      <th>CRITICAL FLAG</th>\n",
       "      <th>SCORE</th>\n",
       "      <th>GRADE</th>\n",
       "      <th>GRADE DATE</th>\n",
       "      <th>INSPECTION TYPE</th>\n",
       "      <th>Latitude</th>\n",
       "      <th>Longitude</th>\n",
       "      <th>Council District</th>\n",
       "    </tr>\n",
       "  </thead>\n",
       "  <tbody>\n",
       "    <tr>\n",
       "      <th>0</th>\n",
       "      <td>50140009</td>\n",
       "      <td>PLACEMAKR WALL ST (?)</td>\n",
       "      <td>Manhattan</td>\n",
       "      <td>110</td>\n",
       "      <td>WALL STREET</td>\n",
       "      <td>10005.0</td>\n",
       "      <td>NaN</td>\n",
       "      <td>01/01/1900</td>\n",
       "      <td>NaN</td>\n",
       "      <td>NaN</td>\n",
       "      <td>NaN</td>\n",
       "      <td>Not Applicable</td>\n",
       "      <td>NaN</td>\n",
       "      <td>NaN</td>\n",
       "      <td>NaN</td>\n",
       "      <td>NaN</td>\n",
       "      <td>40.704631</td>\n",
       "      <td>-74.006694</td>\n",
       "      <td>1.0</td>\n",
       "    </tr>\n",
       "    <tr>\n",
       "      <th>1</th>\n",
       "      <td>50139380</td>\n",
       "      <td>LA MIRA GELATERIA</td>\n",
       "      <td>Manhattan</td>\n",
       "      <td>42</td>\n",
       "      <td>WEST   38 STREET</td>\n",
       "      <td>10018.0</td>\n",
       "      <td>NaN</td>\n",
       "      <td>01/01/1900</td>\n",
       "      <td>NaN</td>\n",
       "      <td>NaN</td>\n",
       "      <td>NaN</td>\n",
       "      <td>Not Applicable</td>\n",
       "      <td>NaN</td>\n",
       "      <td>NaN</td>\n",
       "      <td>NaN</td>\n",
       "      <td>NaN</td>\n",
       "      <td>40.751546</td>\n",
       "      <td>-73.984152</td>\n",
       "      <td>4.0</td>\n",
       "    </tr>\n",
       "    <tr>\n",
       "      <th>2</th>\n",
       "      <td>50128666</td>\n",
       "      <td>SUKI</td>\n",
       "      <td>Manhattan</td>\n",
       "      <td>32</td>\n",
       "      <td>SAINT MARKS PLACE</td>\n",
       "      <td>10003.0</td>\n",
       "      <td>NaN</td>\n",
       "      <td>01/01/1900</td>\n",
       "      <td>NaN</td>\n",
       "      <td>NaN</td>\n",
       "      <td>NaN</td>\n",
       "      <td>Not Applicable</td>\n",
       "      <td>NaN</td>\n",
       "      <td>NaN</td>\n",
       "      <td>NaN</td>\n",
       "      <td>NaN</td>\n",
       "      <td>40.728803</td>\n",
       "      <td>-73.988195</td>\n",
       "      <td>2.0</td>\n",
       "    </tr>\n",
       "    <tr>\n",
       "      <th>3</th>\n",
       "      <td>50145218</td>\n",
       "      <td>NaN</td>\n",
       "      <td>Brooklyn</td>\n",
       "      <td>627</td>\n",
       "      <td>WILSON AVENUE</td>\n",
       "      <td>11207.0</td>\n",
       "      <td>NaN</td>\n",
       "      <td>01/01/1900</td>\n",
       "      <td>NaN</td>\n",
       "      <td>NaN</td>\n",
       "      <td>NaN</td>\n",
       "      <td>Not Applicable</td>\n",
       "      <td>NaN</td>\n",
       "      <td>NaN</td>\n",
       "      <td>NaN</td>\n",
       "      <td>NaN</td>\n",
       "      <td>40.689686</td>\n",
       "      <td>-73.906348</td>\n",
       "      <td>37.0</td>\n",
       "    </tr>\n",
       "    <tr>\n",
       "      <th>4</th>\n",
       "      <td>50145462</td>\n",
       "      <td>NaN</td>\n",
       "      <td>Brooklyn</td>\n",
       "      <td>1775</td>\n",
       "      <td>CONEY ISLAND AVENUE</td>\n",
       "      <td>11230.0</td>\n",
       "      <td>NaN</td>\n",
       "      <td>01/01/1900</td>\n",
       "      <td>NaN</td>\n",
       "      <td>NaN</td>\n",
       "      <td>NaN</td>\n",
       "      <td>Not Applicable</td>\n",
       "      <td>NaN</td>\n",
       "      <td>NaN</td>\n",
       "      <td>NaN</td>\n",
       "      <td>NaN</td>\n",
       "      <td>40.614028</td>\n",
       "      <td>-73.963128</td>\n",
       "      <td>48.0</td>\n",
       "    </tr>\n",
       "  </tbody>\n",
       "</table>\n",
       "</div>"
      ],
      "text/plain": [
       "      CAMIS                    DBA       BORO BUILDING               STREET  \\\n",
       "0  50140009  PLACEMAKR WALL ST (?)  Manhattan      110          WALL STREET   \n",
       "1  50139380      LA MIRA GELATERIA  Manhattan       42     WEST   38 STREET   \n",
       "2  50128666                   SUKI  Manhattan       32    SAINT MARKS PLACE   \n",
       "3  50145218                    NaN   Brooklyn      627        WILSON AVENUE   \n",
       "4  50145462                    NaN   Brooklyn     1775  CONEY ISLAND AVENUE   \n",
       "\n",
       "   ZIPCODE CUISINE DESCRIPTION INSPECTION DATE ACTION VIOLATION CODE  \\\n",
       "0  10005.0                 NaN      01/01/1900    NaN            NaN   \n",
       "1  10018.0                 NaN      01/01/1900    NaN            NaN   \n",
       "2  10003.0                 NaN      01/01/1900    NaN            NaN   \n",
       "3  11207.0                 NaN      01/01/1900    NaN            NaN   \n",
       "4  11230.0                 NaN      01/01/1900    NaN            NaN   \n",
       "\n",
       "  VIOLATION DESCRIPTION   CRITICAL FLAG  SCORE GRADE GRADE DATE  \\\n",
       "0                   NaN  Not Applicable    NaN   NaN        NaN   \n",
       "1                   NaN  Not Applicable    NaN   NaN        NaN   \n",
       "2                   NaN  Not Applicable    NaN   NaN        NaN   \n",
       "3                   NaN  Not Applicable    NaN   NaN        NaN   \n",
       "4                   NaN  Not Applicable    NaN   NaN        NaN   \n",
       "\n",
       "  INSPECTION TYPE   Latitude  Longitude  Council District  \n",
       "0             NaN  40.704631 -74.006694               1.0  \n",
       "1             NaN  40.751546 -73.984152               4.0  \n",
       "2             NaN  40.728803 -73.988195               2.0  \n",
       "3             NaN  40.689686 -73.906348              37.0  \n",
       "4             NaN  40.614028 -73.963128              48.0  "
      ]
     },
     "execution_count": 5,
     "metadata": {},
     "output_type": "execute_result"
    }
   ],
   "source": [
    "# Check to see if data loaded properly:\n",
    "rd.head()"
   ]
  },
  {
   "cell_type": "code",
   "execution_count": 6,
   "id": "18e59ec6",
   "metadata": {},
   "outputs": [],
   "source": [
    "rd.to_csv('rd', index=False)"
   ]
  }
 ],
 "metadata": {
  "kernelspec": {
   "display_name": "Python 3 (ipykernel)",
   "language": "python",
   "name": "python3"
  },
  "language_info": {
   "codemirror_mode": {
    "name": "ipython",
    "version": 3
   },
   "file_extension": ".py",
   "mimetype": "text/x-python",
   "name": "python",
   "nbconvert_exporter": "python",
   "pygments_lexer": "ipython3",
   "version": "3.11.5"
  },
  "toc": {
   "base_numbering": 1,
   "nav_menu": {},
   "number_sections": false,
   "sideBar": true,
   "skip_h1_title": false,
   "title_cell": "Table of Contents",
   "title_sidebar": "Contents",
   "toc_cell": false,
   "toc_position": {
    "height": "calc(100% - 180px)",
    "left": "10px",
    "top": "150px",
    "width": "287.446px"
   },
   "toc_section_display": true,
   "toc_window_display": true
  }
 },
 "nbformat": 4,
 "nbformat_minor": 5
}
