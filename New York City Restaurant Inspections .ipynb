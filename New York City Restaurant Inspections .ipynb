{
 "cells": [
  {
   "cell_type": "markdown",
   "id": "fb63ca02",
   "metadata": {},
   "source": [
    "# **Restaurant Inspections New York City**"
   ]
  },
  {
   "cell_type": "markdown",
   "id": "6a8bce71",
   "metadata": {},
   "source": [
    "## **Imports**"
   ]
  },
  {
   "cell_type": "code",
   "execution_count": 1,
   "id": "16abbb9d",
   "metadata": {
    "scrolled": true
   },
   "outputs": [],
   "source": [
    "import numpy as np\n",
    "import pandas as pd\n",
    "import seaborn as sns\n",
    "import matplotlib.pyplot as plt\n",
    "import plotly\n",
    "%matplotlib inline\n",
    "from wordcloud import WordCloud\n",
    "import re\n",
    "import nltk\n",
    "from nltk.corpus import stopwords\n",
    "\n",
    "#Sklearn preprocessing\n",
    "from sklearn import preprocessing,set_config\n",
    "from sklearn.preprocessing import OrdinalEncoder, OneHotEncoder,StandardScaler,LabelEncoder\n",
    "#Scipy\n",
    "from scipy import stats\n",
    "from scipy.stats import norm\n",
    "\n",
    "#Sklearn Models\n",
    "from sklearn.model_selection import train_test_split, GridSearchCV\n",
    "from sklearn.impute import SimpleImputer\n",
    "from sklearn import preprocessing, set_config\n",
    "from sklearn.preprocessing import StandardScaler\n",
    "from sklearn.pipeline import Pipeline, make_pipeline\n",
    "from sklearn.impute import SimpleImputer\n",
    "from sklearn.compose import ColumnTransformer,make_column_selector,make_column_transformer\n",
    "from sklearn.linear_model import LogisticRegression\n",
    "import warnings\n",
    "from sklearn.decomposition import PCA\n",
    "\n",
    "\n",
    "# Warnings \n",
    "import warnings \n",
    "warnings.filterwarnings(\"ignore\")\n",
    "\n",
    "# Configuring diagrams\n",
    "set_config(display = 'diagram')"
   ]
  },
  {
   "cell_type": "markdown",
   "id": "7160808b",
   "metadata": {},
   "source": [
    "# **Load Data**"
   ]
  },
  {
   "cell_type": "code",
   "execution_count": 2,
   "id": "6a0d8143",
   "metadata": {},
   "outputs": [],
   "source": [
    "rd = pd.read_csv('https://data.cityofnewyork.us/api/views/43nn-pn8j/rows.csv?accessType=DOWNLOAD')"
   ]
  },
  {
   "cell_type": "markdown",
   "id": "c33998d0",
   "metadata": {},
   "source": [
    "# **Data Exploration**\n"
   ]
  },
  {
   "cell_type": "code",
   "execution_count": 3,
   "id": "ea259bdb",
   "metadata": {},
   "outputs": [
    {
     "name": "stdout",
     "output_type": "stream",
     "text": [
      "<class 'pandas.core.frame.DataFrame'>\n",
      "RangeIndex: 205586 entries, 0 to 205585\n",
      "Data columns (total 27 columns):\n",
      " #   Column                 Non-Null Count   Dtype  \n",
      "---  ------                 --------------   -----  \n",
      " 0   CAMIS                  205586 non-null  int64  \n",
      " 1   DBA                    205122 non-null  object \n",
      " 2   BORO                   205586 non-null  object \n",
      " 3   BUILDING               205200 non-null  object \n",
      " 4   STREET                 205582 non-null  object \n",
      " 5   ZIPCODE                202881 non-null  float64\n",
      " 6   PHONE                  205579 non-null  object \n",
      " 7   CUISINE DESCRIPTION    203371 non-null  object \n",
      " 8   INSPECTION DATE        205586 non-null  object \n",
      " 9   ACTION                 203371 non-null  object \n",
      " 10  VIOLATION CODE         202237 non-null  object \n",
      " 11  VIOLATION DESCRIPTION  202237 non-null  object \n",
      " 12  CRITICAL FLAG          205586 non-null  object \n",
      " 13  SCORE                  196136 non-null  float64\n",
      " 14  GRADE                  101750 non-null  object \n",
      " 15  GRADE DATE             92110 non-null   object \n",
      " 16  RECORD DATE            205586 non-null  object \n",
      " 17  INSPECTION TYPE        203371 non-null  object \n",
      " 18  Latitude               205329 non-null  float64\n",
      " 19  Longitude              205329 non-null  float64\n",
      " 20  Community Board        202267 non-null  float64\n",
      " 21  Council District       202263 non-null  float64\n",
      " 22  Census Tract           202263 non-null  float64\n",
      " 23  BIN                    201275 non-null  float64\n",
      " 24  BBL                    204968 non-null  float64\n",
      " 25  NTA                    202267 non-null  object \n",
      " 26  Location Point1        0 non-null       float64\n",
      "dtypes: float64(10), int64(1), object(16)\n",
      "memory usage: 42.3+ MB\n"
     ]
    }
   ],
   "source": [
    "# Check to see if data loaded properly:\n",
    "rd.info()"
   ]
  },
  {
   "cell_type": "code",
   "execution_count": 4,
   "id": "5d379dca",
   "metadata": {
    "scrolled": false
   },
   "outputs": [
    {
     "data": {
      "text/html": [
       "<div>\n",
       "<style scoped>\n",
       "    .dataframe tbody tr th:only-of-type {\n",
       "        vertical-align: middle;\n",
       "    }\n",
       "\n",
       "    .dataframe tbody tr th {\n",
       "        vertical-align: top;\n",
       "    }\n",
       "\n",
       "    .dataframe thead th {\n",
       "        text-align: right;\n",
       "    }\n",
       "</style>\n",
       "<table border=\"1\" class=\"dataframe\">\n",
       "  <thead>\n",
       "    <tr style=\"text-align: right;\">\n",
       "      <th></th>\n",
       "      <th>CAMIS</th>\n",
       "      <th>DBA</th>\n",
       "      <th>BORO</th>\n",
       "      <th>BUILDING</th>\n",
       "      <th>STREET</th>\n",
       "      <th>ZIPCODE</th>\n",
       "      <th>PHONE</th>\n",
       "      <th>CUISINE DESCRIPTION</th>\n",
       "      <th>INSPECTION DATE</th>\n",
       "      <th>ACTION</th>\n",
       "      <th>...</th>\n",
       "      <th>INSPECTION TYPE</th>\n",
       "      <th>Latitude</th>\n",
       "      <th>Longitude</th>\n",
       "      <th>Community Board</th>\n",
       "      <th>Council District</th>\n",
       "      <th>Census Tract</th>\n",
       "      <th>BIN</th>\n",
       "      <th>BBL</th>\n",
       "      <th>NTA</th>\n",
       "      <th>Location Point1</th>\n",
       "    </tr>\n",
       "  </thead>\n",
       "  <tbody>\n",
       "    <tr>\n",
       "      <th>0</th>\n",
       "      <td>50099375</td>\n",
       "      <td>LINGERIE SHOPPE</td>\n",
       "      <td>Queens</td>\n",
       "      <td>2853</td>\n",
       "      <td>STEINWAY ST</td>\n",
       "      <td>11103.0</td>\n",
       "      <td>5168281448</td>\n",
       "      <td>NaN</td>\n",
       "      <td>01/01/1900</td>\n",
       "      <td>NaN</td>\n",
       "      <td>...</td>\n",
       "      <td>NaN</td>\n",
       "      <td>40.765178</td>\n",
       "      <td>-73.913927</td>\n",
       "      <td>401.0</td>\n",
       "      <td>22.0</td>\n",
       "      <td>14700.0</td>\n",
       "      <td>4010807.0</td>\n",
       "      <td>4.006630e+09</td>\n",
       "      <td>QN70</td>\n",
       "      <td>NaN</td>\n",
       "    </tr>\n",
       "    <tr>\n",
       "      <th>1</th>\n",
       "      <td>50142028</td>\n",
       "      <td>NaN</td>\n",
       "      <td>Queens</td>\n",
       "      <td>3515</td>\n",
       "      <td>DITMARS BLVD</td>\n",
       "      <td>11105.0</td>\n",
       "      <td>7187772188</td>\n",
       "      <td>NaN</td>\n",
       "      <td>01/01/1900</td>\n",
       "      <td>NaN</td>\n",
       "      <td>...</td>\n",
       "      <td>NaN</td>\n",
       "      <td>40.774734</td>\n",
       "      <td>-73.908719</td>\n",
       "      <td>401.0</td>\n",
       "      <td>22.0</td>\n",
       "      <td>11300.0</td>\n",
       "      <td>4016613.0</td>\n",
       "      <td>4.008240e+09</td>\n",
       "      <td>QN72</td>\n",
       "      <td>NaN</td>\n",
       "    </tr>\n",
       "    <tr>\n",
       "      <th>2</th>\n",
       "      <td>50097252</td>\n",
       "      <td>RELAX</td>\n",
       "      <td>Brooklyn</td>\n",
       "      <td>68A</td>\n",
       "      <td>NEWELL STREET</td>\n",
       "      <td>11222.0</td>\n",
       "      <td>7183891665</td>\n",
       "      <td>NaN</td>\n",
       "      <td>01/01/1900</td>\n",
       "      <td>NaN</td>\n",
       "      <td>...</td>\n",
       "      <td>NaN</td>\n",
       "      <td>40.724538</td>\n",
       "      <td>-73.947218</td>\n",
       "      <td>301.0</td>\n",
       "      <td>33.0</td>\n",
       "      <td>57100.0</td>\n",
       "      <td>3066972.0</td>\n",
       "      <td>3.026840e+09</td>\n",
       "      <td>BK76</td>\n",
       "      <td>NaN</td>\n",
       "    </tr>\n",
       "    <tr>\n",
       "      <th>3</th>\n",
       "      <td>50118741</td>\n",
       "      <td>Ace’s Pizza</td>\n",
       "      <td>Manhattan</td>\n",
       "      <td>30</td>\n",
       "      <td>ROCKEFELLER PLAZA</td>\n",
       "      <td>10112.0</td>\n",
       "      <td>5167706510</td>\n",
       "      <td>NaN</td>\n",
       "      <td>01/01/1900</td>\n",
       "      <td>NaN</td>\n",
       "      <td>...</td>\n",
       "      <td>NaN</td>\n",
       "      <td>40.758747</td>\n",
       "      <td>-73.978692</td>\n",
       "      <td>105.0</td>\n",
       "      <td>4.0</td>\n",
       "      <td>10400.0</td>\n",
       "      <td>1076262.0</td>\n",
       "      <td>1.012658e+09</td>\n",
       "      <td>MN17</td>\n",
       "      <td>NaN</td>\n",
       "    </tr>\n",
       "    <tr>\n",
       "      <th>4</th>\n",
       "      <td>50139226</td>\n",
       "      <td>RIZE BROOKLYN</td>\n",
       "      <td>Brooklyn</td>\n",
       "      <td>137</td>\n",
       "      <td>SCHENECTADY AVENUE</td>\n",
       "      <td>11213.0</td>\n",
       "      <td>7189383131</td>\n",
       "      <td>NaN</td>\n",
       "      <td>01/01/1900</td>\n",
       "      <td>NaN</td>\n",
       "      <td>...</td>\n",
       "      <td>NaN</td>\n",
       "      <td>40.674427</td>\n",
       "      <td>-73.933360</td>\n",
       "      <td>308.0</td>\n",
       "      <td>36.0</td>\n",
       "      <td>30900.0</td>\n",
       "      <td>3324618.0</td>\n",
       "      <td>3.013540e+09</td>\n",
       "      <td>BK61</td>\n",
       "      <td>NaN</td>\n",
       "    </tr>\n",
       "  </tbody>\n",
       "</table>\n",
       "<p>5 rows × 27 columns</p>\n",
       "</div>"
      ],
      "text/plain": [
       "      CAMIS              DBA       BORO BUILDING              STREET  ZIPCODE  \\\n",
       "0  50099375  LINGERIE SHOPPE     Queens     2853         STEINWAY ST  11103.0   \n",
       "1  50142028              NaN     Queens     3515        DITMARS BLVD  11105.0   \n",
       "2  50097252            RELAX   Brooklyn      68A       NEWELL STREET  11222.0   \n",
       "3  50118741      Ace’s Pizza  Manhattan       30   ROCKEFELLER PLAZA  10112.0   \n",
       "4  50139226    RIZE BROOKLYN   Brooklyn      137  SCHENECTADY AVENUE  11213.0   \n",
       "\n",
       "        PHONE CUISINE DESCRIPTION INSPECTION DATE ACTION  ... INSPECTION TYPE  \\\n",
       "0  5168281448                 NaN      01/01/1900    NaN  ...             NaN   \n",
       "1  7187772188                 NaN      01/01/1900    NaN  ...             NaN   \n",
       "2  7183891665                 NaN      01/01/1900    NaN  ...             NaN   \n",
       "3  5167706510                 NaN      01/01/1900    NaN  ...             NaN   \n",
       "4  7189383131                 NaN      01/01/1900    NaN  ...             NaN   \n",
       "\n",
       "    Latitude  Longitude  Community Board Council District Census Tract  \\\n",
       "0  40.765178 -73.913927            401.0             22.0      14700.0   \n",
       "1  40.774734 -73.908719            401.0             22.0      11300.0   \n",
       "2  40.724538 -73.947218            301.0             33.0      57100.0   \n",
       "3  40.758747 -73.978692            105.0              4.0      10400.0   \n",
       "4  40.674427 -73.933360            308.0             36.0      30900.0   \n",
       "\n",
       "         BIN           BBL   NTA  Location Point1  \n",
       "0  4010807.0  4.006630e+09  QN70              NaN  \n",
       "1  4016613.0  4.008240e+09  QN72              NaN  \n",
       "2  3066972.0  3.026840e+09  BK76              NaN  \n",
       "3  1076262.0  1.012658e+09  MN17              NaN  \n",
       "4  3324618.0  3.013540e+09  BK61              NaN  \n",
       "\n",
       "[5 rows x 27 columns]"
      ]
     },
     "execution_count": 4,
     "metadata": {},
     "output_type": "execute_result"
    }
   ],
   "source": [
    "# Check to see if data loaded properly:\n",
    "rd.head()"
   ]
  },
  {
   "cell_type": "markdown",
   "id": "84b4d5b4",
   "metadata": {},
   "source": [
    "## **Drop Columns**"
   ]
  },
  {
   "cell_type": "code",
   "execution_count": 5,
   "id": "0c0f45e8",
   "metadata": {},
   "outputs": [],
   "source": [
    "# Dropping irrelevant of imcomplete columns\n",
    "rd.drop(['Location Point1', 'PHONE', 'BBL', 'BIN', 'NTA', 'Census Tract', 'Community Board', 'RECORD DATE'], axis=1, inplace=True)"
   ]
  },
  {
   "cell_type": "code",
   "execution_count": 6,
   "id": "04ce6b32",
   "metadata": {
    "scrolled": true
   },
   "outputs": [
    {
     "name": "stdout",
     "output_type": "stream",
     "text": [
      "<class 'pandas.core.frame.DataFrame'>\n",
      "RangeIndex: 205586 entries, 0 to 205585\n",
      "Data columns (total 19 columns):\n",
      " #   Column                 Non-Null Count   Dtype  \n",
      "---  ------                 --------------   -----  \n",
      " 0   CAMIS                  205586 non-null  int64  \n",
      " 1   DBA                    205122 non-null  object \n",
      " 2   BORO                   205586 non-null  object \n",
      " 3   BUILDING               205200 non-null  object \n",
      " 4   STREET                 205582 non-null  object \n",
      " 5   ZIPCODE                202881 non-null  float64\n",
      " 6   CUISINE DESCRIPTION    203371 non-null  object \n",
      " 7   INSPECTION DATE        205586 non-null  object \n",
      " 8   ACTION                 203371 non-null  object \n",
      " 9   VIOLATION CODE         202237 non-null  object \n",
      " 10  VIOLATION DESCRIPTION  202237 non-null  object \n",
      " 11  CRITICAL FLAG          205586 non-null  object \n",
      " 12  SCORE                  196136 non-null  float64\n",
      " 13  GRADE                  101750 non-null  object \n",
      " 14  GRADE DATE             92110 non-null   object \n",
      " 15  INSPECTION TYPE        203371 non-null  object \n",
      " 16  Latitude               205329 non-null  float64\n",
      " 17  Longitude              205329 non-null  float64\n",
      " 18  Council District       202263 non-null  float64\n",
      "dtypes: float64(5), int64(1), object(13)\n",
      "memory usage: 29.8+ MB\n"
     ]
    }
   ],
   "source": [
    "# Checking to see if columns dropped \n",
    "rd.info()"
   ]
  },
  {
   "cell_type": "markdown",
   "id": "5739ee38",
   "metadata": {},
   "source": [
    "## **Checking for missing data**"
   ]
  },
  {
   "cell_type": "code",
   "execution_count": 7,
   "id": "ffbff33a",
   "metadata": {
    "scrolled": false
   },
   "outputs": [
    {
     "name": "stdout",
     "output_type": "stream",
     "text": [
      "<bound method NDFrame.head of                         Total Percent\n",
      "CAMIS                       0    0.0%\n",
      "BORO                        0    0.0%\n",
      "INSPECTION DATE             0    0.0%\n",
      "CRITICAL FLAG               0    0.0%\n",
      "STREET                      4    0.0%\n",
      "Longitude                 257   0.13%\n",
      "Latitude                  257   0.13%\n",
      "BUILDING                  386   0.19%\n",
      "DBA                       464   0.23%\n",
      "CUISINE DESCRIPTION      2215   1.08%\n",
      "ACTION                   2215   1.08%\n",
      "INSPECTION TYPE          2215   1.08%\n",
      "ZIPCODE                  2705   1.32%\n",
      "Council District         3323   1.62%\n",
      "VIOLATION DESCRIPTION    3349   1.63%\n",
      "VIOLATION CODE           3349   1.63%\n",
      "SCORE                    9450    4.6%\n",
      "GRADE                  103836  50.51%\n",
      "GRADE DATE             113476   55.2%>\n"
     ]
    }
   ],
   "source": [
    "# checking missing data in data \n",
    "def check_missing_data(df):\n",
    "    total = df.isnull().sum().sort_values(ascending=True)\n",
    "    percent = (df.isnull().sum() / df.isnull().count() * 100).sort_values(ascending=True)\n",
    "    percent = percent.round(2).astype(str) + '%'  # Add the percentage sign\n",
    "    missing_data = pd.concat([total, percent], axis=1, keys=['Total', 'Percent'])\n",
    "    return missing_data\n",
    "missing_data_result = check_missing_data(rd)\n",
    "print(missing_data_result.head)"
   ]
  },
  {
   "cell_type": "markdown",
   "id": "7fae9740",
   "metadata": {},
   "source": [
    "## **Clean up Names of Restaurants**"
   ]
  },
  {
   "cell_type": "code",
   "execution_count": 8,
   "id": "9b3e419a",
   "metadata": {},
   "outputs": [],
   "source": [
    "# Function to clean restaurant names\n",
    "def clean_restaurant_name(name):\n",
    "    # check if the input is a string \n",
    "    if isinstance(name, str):\n",
    "        # Remove store numbers using regular expression \n",
    "        cleaned_name = re.sub(r'#\\d+','', name)\n",
    "        # Remove all numeric characters \n",
    "        cleaned_name = re.sub(r'#\\d+', '', cleaned_name)\n",
    "        #Remove leading and trailing whitespace\n",
    "        cleaned_name = cleaned_name.strip()\n",
    "        return cleaned_name\n",
    "    else:\n",
    "        return name #Return the input unchanged for non-string values\n",
    "# Apply the clean_restaurant_name function to the 'DBA' column\n",
    "rd['Cleaned Restaurant Name'] = rd['DBA'].apply(clean_restaurant_name)\n",
    "# Drop the origianl 'DBA' column if you want \n",
    "#rd.drop(columns=['DBA'], inplace = True)"
   ]
  },
  {
   "cell_type": "code",
   "execution_count": 17,
   "id": "7f41ad42",
   "metadata": {},
   "outputs": [
    {
     "data": {
      "text/plain": [
       "Cycle Inspection / Initial Inspection                          112959\n",
       "Cycle Inspection / Re-inspection                                36080\n",
       "Pre-permit (Operational) / Initial Inspection                   30463\n",
       "Pre-permit (Operational) / Re-inspection                         9085\n",
       "Administrative Miscellaneous / Initial Inspection                4756\n",
       "Pre-permit (Non-operational) / Initial Inspection                2447\n",
       "Pre-permit (Operational) / Compliance Inspection                 1513\n",
       "Cycle Inspection / Reopening Inspection                          1415\n",
       "Administrative Miscellaneous / Re-inspection                      930\n",
       "Pre-permit (Operational) / Reopening Inspection                   711\n",
       "Cycle Inspection / Compliance Inspection                          687\n",
       "Smoke-Free Air Act / Initial Inspection                           548\n",
       "Trans Fat / Initial Inspection                                    381\n",
       "Inter-Agency Task Force / Initial Inspection                      339\n",
       "Calorie Posting / Initial Inspection                              307\n",
       "Pre-permit (Operational) / Second Compliance Inspection           203\n",
       "Pre-permit (Non-operational) / Re-inspection                      182\n",
       "Administrative Miscellaneous / Compliance Inspection               89\n",
       "Trans Fat / Re-inspection                                          61\n",
       "Calorie Posting / Re-inspection                                    51\n",
       "Smoke-Free Air Act / Re-inspection                                 47\n",
       "Administrative Miscellaneous / Reopening Inspection                40\n",
       "Pre-permit (Non-operational) / Compliance Inspection               27\n",
       "Cycle Inspection / Second Compliance Inspection                    20\n",
       "Administrative Miscellaneous / Second Compliance Inspection        10\n",
       "Smoke-Free Air Act / Limited Inspection                             7\n",
       "Pre-permit (Non-operational) / Second Compliance Inspection         4\n",
       "Smoke-Free Air Act / Compliance Inspection                          4\n",
       "Trans Fat / Compliance Inspection                                   3\n",
       "Calorie Posting / Compliance Inspection                             1\n",
       "Inter-Agency Task Force / Re-inspection                             1\n",
       "Name: INSPECTION TYPE, dtype: int64"
      ]
     },
     "execution_count": 17,
     "metadata": {},
     "output_type": "execute_result"
    }
   ],
   "source": [
    "# Inspection Types\n",
    "rd['INSPECTION TYPE'].value_counts()"
   ]
  },
  {
   "cell_type": "code",
   "execution_count": null,
   "id": "41556356",
   "metadata": {},
   "outputs": [],
   "source": []
  },
  {
   "cell_type": "code",
   "execution_count": null,
   "id": "e639d240",
   "metadata": {},
   "outputs": [],
   "source": []
  },
  {
   "cell_type": "code",
   "execution_count": null,
   "id": "d0437dff",
   "metadata": {},
   "outputs": [],
   "source": []
  },
  {
   "cell_type": "code",
   "execution_count": null,
   "id": "f7ac9900",
   "metadata": {},
   "outputs": [],
   "source": []
  },
  {
   "cell_type": "code",
   "execution_count": null,
   "id": "f9a5dacb",
   "metadata": {},
   "outputs": [],
   "source": []
  },
  {
   "cell_type": "code",
   "execution_count": null,
   "id": "6609747a",
   "metadata": {},
   "outputs": [],
   "source": []
  },
  {
   "cell_type": "code",
   "execution_count": null,
   "id": "7dfff2e7",
   "metadata": {},
   "outputs": [],
   "source": []
  },
  {
   "cell_type": "code",
   "execution_count": null,
   "id": "ebb5c76c",
   "metadata": {},
   "outputs": [],
   "source": []
  },
  {
   "cell_type": "code",
   "execution_count": null,
   "id": "e764f95d",
   "metadata": {},
   "outputs": [],
   "source": []
  },
  {
   "cell_type": "code",
   "execution_count": null,
   "id": "b5bf4d8e",
   "metadata": {},
   "outputs": [],
   "source": []
  },
  {
   "cell_type": "code",
   "execution_count": null,
   "id": "a35be248",
   "metadata": {},
   "outputs": [],
   "source": []
  },
  {
   "cell_type": "code",
   "execution_count": null,
   "id": "7cb00ffd",
   "metadata": {},
   "outputs": [],
   "source": []
  },
  {
   "cell_type": "code",
   "execution_count": null,
   "id": "e1c26c79",
   "metadata": {},
   "outputs": [],
   "source": []
  },
  {
   "cell_type": "code",
   "execution_count": null,
   "id": "d542824f",
   "metadata": {},
   "outputs": [],
   "source": []
  },
  {
   "cell_type": "code",
   "execution_count": null,
   "id": "3d7c1c76",
   "metadata": {},
   "outputs": [],
   "source": []
  },
  {
   "cell_type": "code",
   "execution_count": null,
   "id": "be086341",
   "metadata": {},
   "outputs": [],
   "source": []
  },
  {
   "cell_type": "code",
   "execution_count": null,
   "id": "18e59ec6",
   "metadata": {},
   "outputs": [],
   "source": []
  }
 ],
 "metadata": {
  "kernelspec": {
   "display_name": "Python (dojo-env)",
   "language": "python",
   "name": "dojo-env"
  },
  "language_info": {
   "codemirror_mode": {
    "name": "ipython",
    "version": 3
   },
   "file_extension": ".py",
   "mimetype": "text/x-python",
   "name": "python",
   "nbconvert_exporter": "python",
   "pygments_lexer": "ipython3",
   "version": "3.9.15"
  },
  "toc": {
   "base_numbering": 1,
   "nav_menu": {},
   "number_sections": false,
   "sideBar": true,
   "skip_h1_title": false,
   "title_cell": "Table of Contents",
   "title_sidebar": "Contents",
   "toc_cell": false,
   "toc_position": {},
   "toc_section_display": true,
   "toc_window_display": true
  }
 },
 "nbformat": 4,
 "nbformat_minor": 5
}
